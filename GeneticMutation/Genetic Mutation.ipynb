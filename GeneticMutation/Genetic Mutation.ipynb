{
 "cells": [
  {
   "cell_type": "markdown",
   "metadata": {},
   "source": [
    "                                                 "
   ]
  },
  {
   "cell_type": "markdown",
   "metadata": {},
   "source": [
    "<span style=\"color:blue\"><span style=\"font-size:30px\">Classifying Clinically Actionable Genetic Mutations</span></span>"
   ]
  },
  {
   "cell_type": "markdown",
   "metadata": {},
   "source": [
    "Once sequenced, a cancer tumor can have thousands of genetic mutations. But the challenge is distinguishing the mutations that contribute to tumor growth (drivers) from the neutral mutations (passengers). \n",
    "\n",
    "Currently this interpretation of genetic mutations is being done manually. This is a very time-consuming task where a clinical pathologist has to manually review and classify every single genetic mutation based on evidence from text-based clinical literature.\n",
    "\n",
    "An expert-annotated knowledge base where world-class researchers and oncologists have manually annotated thousands of mutations is available in 2 dataset files.\n",
    "\n",
    "These 2 data set files, training_variants.zip and training_text.zip, are downloaded and unzipped in a local folder. We will change files extensions from txt to csv. "
   ]
  },
  {
   "cell_type": "code",
   "execution_count": 1,
   "metadata": {},
   "outputs": [],
   "source": [
    "#Pythin packages imported\n",
    "import numpy as np\n",
    "import pandas as pd \n",
    "import matplotlib.pyplot as plt\n",
    "import seaborn as sns\n",
    "from sklearn.model_selection import train_test_split,GridSearchCV\n",
    "from sklearn.metrics import confusion_matrix,make_scorer,accuracy_score,log_loss,recall_score,precision_score\n",
    "from sklearn.preprocessing import normalize\n",
    "from sklearn.feature_extraction.text import CountVectorizer\n",
    "from sklearn.linear_model import SGDClassifier\n",
    "from sklearn.neighbors import KNeighborsClassifier\n",
    "from sklearn.calibration import CalibratedClassifierCV\n",
    "from sklearn.naive_bayes import MultinomialNB\n",
    "from sklearn.svm import LinearSVC\n",
    "from sklearn.ensemble import RandomForestClassifier\n",
    "from xgboost.sklearn import XGBClassifier\n",
    "from nltk.tokenize import word_tokenize\n",
    "import re\n",
    "from nltk.corpus import stopwords\n",
    "import re\n",
    "from IPython.display import Image\n",
    "import math\n",
    "from collections import Counter, defaultdict\n",
    "from scipy.sparse import hstack\n",
    "import warnings\n",
    "warnings.filterwarnings(\"ignore\")"
   ]
  },
  {
   "cell_type": "code",
   "execution_count": 2,
   "metadata": {},
   "outputs": [],
   "source": [
    "#loading file in the python program. The separator in this file is a comma(we do not need to specify in this case)\n",
    "medic_var=pd.read_csv('training_variants.csv')\n",
    "#loading file in the python program. The separator in this file is a ||. names and skiprows parameters are used to separate column names and eliminate first row\n",
    "medic_text=pd.read_csv('training_text.csv', sep='\\|\\|',names=['ID','Text'],skiprows=1)"
   ]
  },
  {
   "cell_type": "code",
   "execution_count": 3,
   "metadata": {},
   "outputs": [
    {
     "name": "stdout",
     "output_type": "stream",
     "text": [
      "<class 'pandas.core.frame.DataFrame'>\n",
      "RangeIndex: 3321 entries, 0 to 3320\n",
      "Data columns (total 4 columns):\n",
      "ID           3321 non-null int64\n",
      "Gene         3321 non-null object\n",
      "Variation    3321 non-null object\n",
      "Class        3321 non-null int64\n",
      "dtypes: int64(2), object(2)\n",
      "memory usage: 103.9+ KB\n"
     ]
    }
   ],
   "source": [
    "medic_var.info()"
   ]
  },
  {
   "cell_type": "markdown",
   "metadata": {},
   "source": [
    "There are 3321 items and there 0 null values"
   ]
  },
  {
   "cell_type": "code",
   "execution_count": 4,
   "metadata": {},
   "outputs": [
    {
     "data": {
      "text/html": [
       "<div>\n",
       "<style scoped>\n",
       "    .dataframe tbody tr th:only-of-type {\n",
       "        vertical-align: middle;\n",
       "    }\n",
       "\n",
       "    .dataframe tbody tr th {\n",
       "        vertical-align: top;\n",
       "    }\n",
       "\n",
       "    .dataframe thead th {\n",
       "        text-align: right;\n",
       "    }\n",
       "</style>\n",
       "<table border=\"1\" class=\"dataframe\">\n",
       "  <thead>\n",
       "    <tr style=\"text-align: right;\">\n",
       "      <th></th>\n",
       "      <th>ID</th>\n",
       "      <th>Gene</th>\n",
       "      <th>Variation</th>\n",
       "      <th>Class</th>\n",
       "    </tr>\n",
       "  </thead>\n",
       "  <tbody>\n",
       "    <tr>\n",
       "      <th>0</th>\n",
       "      <td>0</td>\n",
       "      <td>FAM58A</td>\n",
       "      <td>Truncating Mutations</td>\n",
       "      <td>1</td>\n",
       "    </tr>\n",
       "    <tr>\n",
       "      <th>1</th>\n",
       "      <td>1</td>\n",
       "      <td>CBL</td>\n",
       "      <td>W802*</td>\n",
       "      <td>2</td>\n",
       "    </tr>\n",
       "    <tr>\n",
       "      <th>2</th>\n",
       "      <td>2</td>\n",
       "      <td>CBL</td>\n",
       "      <td>Q249E</td>\n",
       "      <td>2</td>\n",
       "    </tr>\n",
       "    <tr>\n",
       "      <th>3</th>\n",
       "      <td>3</td>\n",
       "      <td>CBL</td>\n",
       "      <td>N454D</td>\n",
       "      <td>3</td>\n",
       "    </tr>\n",
       "    <tr>\n",
       "      <th>4</th>\n",
       "      <td>4</td>\n",
       "      <td>CBL</td>\n",
       "      <td>L399V</td>\n",
       "      <td>4</td>\n",
       "    </tr>\n",
       "  </tbody>\n",
       "</table>\n",
       "</div>"
      ],
      "text/plain": [
       "   ID    Gene             Variation  Class\n",
       "0   0  FAM58A  Truncating Mutations      1\n",
       "1   1     CBL                 W802*      2\n",
       "2   2     CBL                 Q249E      2\n",
       "3   3     CBL                 N454D      3\n",
       "4   4     CBL                 L399V      4"
      ]
     },
     "execution_count": 4,
     "metadata": {},
     "output_type": "execute_result"
    }
   ],
   "source": [
    "medic_var.head()"
   ]
  },
  {
   "cell_type": "markdown",
   "metadata": {},
   "source": [
    "There are 4 fields.<br><br>__ID__ : Row indicator that in used to link these values to text variable in training_text file<br>\n",
    "__Gene__ : Gene where genetic mutation is present<br>\n",
    "__Varation__ :  Gene mutation type<br>\n",
    "__Class__ : indicates the classification of the mutation (1 to 9)<br>"
   ]
  },
  {
   "cell_type": "code",
   "execution_count": 5,
   "metadata": {},
   "outputs": [
    {
     "name": "stdout",
     "output_type": "stream",
     "text": [
      "<class 'pandas.core.frame.DataFrame'>\n",
      "RangeIndex: 3321 entries, 0 to 3320\n",
      "Data columns (total 2 columns):\n",
      "ID      3321 non-null int64\n",
      "Text    3316 non-null object\n",
      "dtypes: int64(1), object(1)\n",
      "memory usage: 52.0+ KB\n"
     ]
    }
   ],
   "source": [
    "medic_text.info()"
   ]
  },
  {
   "cell_type": "code",
   "execution_count": 6,
   "metadata": {},
   "outputs": [
    {
     "name": "stdout",
     "output_type": "stream",
     "text": [
      "<class 'pandas.core.frame.DataFrame'>\n",
      "RangeIndex: 3321 entries, 0 to 3320\n",
      "Data columns (total 2 columns):\n",
      "ID      3321 non-null int64\n",
      "Text    3316 non-null object\n",
      "dtypes: int64(1), object(1)\n",
      "memory usage: 52.0+ KB\n"
     ]
    }
   ],
   "source": [
    "medic_text.info()"
   ]
  },
  {
   "cell_type": "markdown",
   "metadata": {},
   "source": [
    "There are 3321 items and there 5 null values"
   ]
  },
  {
   "cell_type": "code",
   "execution_count": 7,
   "metadata": {},
   "outputs": [
    {
     "data": {
      "text/html": [
       "<div>\n",
       "<style scoped>\n",
       "    .dataframe tbody tr th:only-of-type {\n",
       "        vertical-align: middle;\n",
       "    }\n",
       "\n",
       "    .dataframe tbody tr th {\n",
       "        vertical-align: top;\n",
       "    }\n",
       "\n",
       "    .dataframe thead th {\n",
       "        text-align: right;\n",
       "    }\n",
       "</style>\n",
       "<table border=\"1\" class=\"dataframe\">\n",
       "  <thead>\n",
       "    <tr style=\"text-align: right;\">\n",
       "      <th></th>\n",
       "      <th>ID</th>\n",
       "      <th>Text</th>\n",
       "    </tr>\n",
       "  </thead>\n",
       "  <tbody>\n",
       "    <tr>\n",
       "      <th>0</th>\n",
       "      <td>0</td>\n",
       "      <td>Cyclin-dependent kinases (CDKs) regulate a var...</td>\n",
       "    </tr>\n",
       "    <tr>\n",
       "      <th>1</th>\n",
       "      <td>1</td>\n",
       "      <td>Abstract Background  Non-small cell lung canc...</td>\n",
       "    </tr>\n",
       "    <tr>\n",
       "      <th>2</th>\n",
       "      <td>2</td>\n",
       "      <td>Abstract Background  Non-small cell lung canc...</td>\n",
       "    </tr>\n",
       "    <tr>\n",
       "      <th>3</th>\n",
       "      <td>3</td>\n",
       "      <td>Recent evidence has demonstrated that acquired...</td>\n",
       "    </tr>\n",
       "    <tr>\n",
       "      <th>4</th>\n",
       "      <td>4</td>\n",
       "      <td>Oncogenic mutations in the monomeric Casitas B...</td>\n",
       "    </tr>\n",
       "  </tbody>\n",
       "</table>\n",
       "</div>"
      ],
      "text/plain": [
       "   ID                                               Text\n",
       "0   0  Cyclin-dependent kinases (CDKs) regulate a var...\n",
       "1   1   Abstract Background  Non-small cell lung canc...\n",
       "2   2   Abstract Background  Non-small cell lung canc...\n",
       "3   3  Recent evidence has demonstrated that acquired...\n",
       "4   4  Oncogenic mutations in the monomeric Casitas B..."
      ]
     },
     "execution_count": 7,
     "metadata": {},
     "output_type": "execute_result"
    }
   ],
   "source": [
    "medic_text.head()"
   ]
  },
  {
   "cell_type": "markdown",
   "metadata": {},
   "source": [
    "There are 2 fields:<br><br>\n",
    "__ID__ : Row indicator that in used to link these values to Gene, variation and Class variables in the training_var file<br>\n",
    "__Text__ : Medical text that refers to gene and its mutations<br>"
   ]
  },
  {
   "cell_type": "markdown",
   "metadata": {},
   "source": [
    "We are going to check the __null values__ and the __space values__ in all the texts."
   ]
  },
  {
   "cell_type": "code",
   "execution_count": 8,
   "metadata": {},
   "outputs": [
    {
     "name": "stdout",
     "output_type": "stream",
     "text": [
      "Space values 0\n",
      "Null values 5\n"
     ]
    }
   ],
   "source": [
    "print(\"Space values\",medic_text['Text'].str.isspace().sum())\n",
    "print(\"Null values\",medic_text['Text'].isna().sum())"
   ]
  },
  {
   "cell_type": "code",
   "execution_count": 9,
   "metadata": {},
   "outputs": [],
   "source": [
    "#we are going to add the 2 dataframes and eliminate duplicate columns\n",
    "medic=pd.concat([medic_var,medic_text],axis=1)\n",
    "medic = medic.loc[:,~medic.columns.duplicated()]\n",
    "medic=medic[['ID','Gene','Variation','Text','Class']]"
   ]
  },
  {
   "cell_type": "code",
   "execution_count": 10,
   "metadata": {},
   "outputs": [
    {
     "name": "stdout",
     "output_type": "stream",
     "text": [
      "<class 'pandas.core.frame.DataFrame'>\n",
      "RangeIndex: 3321 entries, 0 to 3320\n",
      "Data columns (total 5 columns):\n",
      "ID           3321 non-null int64\n",
      "Gene         3321 non-null object\n",
      "Variation    3321 non-null object\n",
      "Text         3316 non-null object\n",
      "Class        3321 non-null int64\n",
      "dtypes: int64(2), object(3)\n",
      "memory usage: 129.8+ KB\n"
     ]
    }
   ],
   "source": [
    "medic.info()"
   ]
  },
  {
   "cell_type": "code",
   "execution_count": 11,
   "metadata": {},
   "outputs": [
    {
     "data": {
      "text/html": [
       "<div>\n",
       "<style scoped>\n",
       "    .dataframe tbody tr th:only-of-type {\n",
       "        vertical-align: middle;\n",
       "    }\n",
       "\n",
       "    .dataframe tbody tr th {\n",
       "        vertical-align: top;\n",
       "    }\n",
       "\n",
       "    .dataframe thead th {\n",
       "        text-align: right;\n",
       "    }\n",
       "</style>\n",
       "<table border=\"1\" class=\"dataframe\">\n",
       "  <thead>\n",
       "    <tr style=\"text-align: right;\">\n",
       "      <th></th>\n",
       "      <th>ID</th>\n",
       "      <th>Gene</th>\n",
       "      <th>Variation</th>\n",
       "      <th>Text</th>\n",
       "      <th>Class</th>\n",
       "    </tr>\n",
       "  </thead>\n",
       "  <tbody>\n",
       "    <tr>\n",
       "      <th>0</th>\n",
       "      <td>0</td>\n",
       "      <td>FAM58A</td>\n",
       "      <td>Truncating Mutations</td>\n",
       "      <td>Cyclin-dependent kinases (CDKs) regulate a var...</td>\n",
       "      <td>1</td>\n",
       "    </tr>\n",
       "    <tr>\n",
       "      <th>1</th>\n",
       "      <td>1</td>\n",
       "      <td>CBL</td>\n",
       "      <td>W802*</td>\n",
       "      <td>Abstract Background  Non-small cell lung canc...</td>\n",
       "      <td>2</td>\n",
       "    </tr>\n",
       "    <tr>\n",
       "      <th>2</th>\n",
       "      <td>2</td>\n",
       "      <td>CBL</td>\n",
       "      <td>Q249E</td>\n",
       "      <td>Abstract Background  Non-small cell lung canc...</td>\n",
       "      <td>2</td>\n",
       "    </tr>\n",
       "    <tr>\n",
       "      <th>3</th>\n",
       "      <td>3</td>\n",
       "      <td>CBL</td>\n",
       "      <td>N454D</td>\n",
       "      <td>Recent evidence has demonstrated that acquired...</td>\n",
       "      <td>3</td>\n",
       "    </tr>\n",
       "    <tr>\n",
       "      <th>4</th>\n",
       "      <td>4</td>\n",
       "      <td>CBL</td>\n",
       "      <td>L399V</td>\n",
       "      <td>Oncogenic mutations in the monomeric Casitas B...</td>\n",
       "      <td>4</td>\n",
       "    </tr>\n",
       "  </tbody>\n",
       "</table>\n",
       "</div>"
      ],
      "text/plain": [
       "   ID    Gene             Variation  \\\n",
       "0   0  FAM58A  Truncating Mutations   \n",
       "1   1     CBL                 W802*   \n",
       "2   2     CBL                 Q249E   \n",
       "3   3     CBL                 N454D   \n",
       "4   4     CBL                 L399V   \n",
       "\n",
       "                                                Text  Class  \n",
       "0  Cyclin-dependent kinases (CDKs) regulate a var...      1  \n",
       "1   Abstract Background  Non-small cell lung canc...      2  \n",
       "2   Abstract Background  Non-small cell lung canc...      2  \n",
       "3  Recent evidence has demonstrated that acquired...      3  \n",
       "4  Oncogenic mutations in the monomeric Casitas B...      4  "
      ]
     },
     "execution_count": 11,
     "metadata": {},
     "output_type": "execute_result"
    }
   ],
   "source": [
    "medic.head()"
   ]
  },
  {
   "cell_type": "markdown",
   "metadata": {},
   "source": [
    "We can check that we have 5 null cells which belong to __Text__ column"
   ]
  },
  {
   "cell_type": "code",
   "execution_count": 12,
   "metadata": {},
   "outputs": [
    {
     "data": {
      "text/html": [
       "<div>\n",
       "<style scoped>\n",
       "    .dataframe tbody tr th:only-of-type {\n",
       "        vertical-align: middle;\n",
       "    }\n",
       "\n",
       "    .dataframe tbody tr th {\n",
       "        vertical-align: top;\n",
       "    }\n",
       "\n",
       "    .dataframe thead th {\n",
       "        text-align: right;\n",
       "    }\n",
       "</style>\n",
       "<table border=\"1\" class=\"dataframe\">\n",
       "  <thead>\n",
       "    <tr style=\"text-align: right;\">\n",
       "      <th></th>\n",
       "      <th>ID</th>\n",
       "      <th>Gene</th>\n",
       "      <th>Variation</th>\n",
       "      <th>Text</th>\n",
       "      <th>Class</th>\n",
       "    </tr>\n",
       "  </thead>\n",
       "  <tbody>\n",
       "    <tr>\n",
       "      <th>1109</th>\n",
       "      <td>1109</td>\n",
       "      <td>FANCA</td>\n",
       "      <td>S1088F</td>\n",
       "      <td>NaN</td>\n",
       "      <td>1</td>\n",
       "    </tr>\n",
       "    <tr>\n",
       "      <th>1277</th>\n",
       "      <td>1277</td>\n",
       "      <td>ARID5B</td>\n",
       "      <td>Truncating Mutations</td>\n",
       "      <td>NaN</td>\n",
       "      <td>1</td>\n",
       "    </tr>\n",
       "    <tr>\n",
       "      <th>1407</th>\n",
       "      <td>1407</td>\n",
       "      <td>FGFR3</td>\n",
       "      <td>K508M</td>\n",
       "      <td>NaN</td>\n",
       "      <td>6</td>\n",
       "    </tr>\n",
       "    <tr>\n",
       "      <th>1639</th>\n",
       "      <td>1639</td>\n",
       "      <td>FLT1</td>\n",
       "      <td>Amplification</td>\n",
       "      <td>NaN</td>\n",
       "      <td>6</td>\n",
       "    </tr>\n",
       "    <tr>\n",
       "      <th>2755</th>\n",
       "      <td>2755</td>\n",
       "      <td>BRAF</td>\n",
       "      <td>G596C</td>\n",
       "      <td>NaN</td>\n",
       "      <td>7</td>\n",
       "    </tr>\n",
       "  </tbody>\n",
       "</table>\n",
       "</div>"
      ],
      "text/plain": [
       "        ID    Gene             Variation Text  Class\n",
       "1109  1109   FANCA                S1088F  NaN      1\n",
       "1277  1277  ARID5B  Truncating Mutations  NaN      1\n",
       "1407  1407   FGFR3                 K508M  NaN      6\n",
       "1639  1639    FLT1         Amplification  NaN      6\n",
       "2755  2755    BRAF                 G596C  NaN      7"
      ]
     },
     "execution_count": 12,
     "metadata": {},
     "output_type": "execute_result"
    }
   ],
   "source": [
    "medic[medic.isnull().any(axis=1)]"
   ]
  },
  {
   "cell_type": "markdown",
   "metadata": {},
   "source": [
    "We have 2 options:<br>\n",
    "<span style='color:blue'>1. Eliminate rows with null values</span><br>\n",
    "<span style='color:blue'>2. Impute some text to these rows (for example 'Gene(stringvalue) '+ 'Variation(stringvalue')</span><br><br>\n",
    "We are going to choose the elimination option because the null values total number is very low compared to __Text__ values total number."
   ]
  },
  {
   "cell_type": "code",
   "execution_count": 13,
   "metadata": {},
   "outputs": [],
   "source": [
    "medic.dropna(inplace=True)"
   ]
  },
  {
   "cell_type": "code",
   "execution_count": 14,
   "metadata": {},
   "outputs": [
    {
     "name": "stdout",
     "output_type": "stream",
     "text": [
      "<class 'pandas.core.frame.DataFrame'>\n",
      "Int64Index: 3316 entries, 0 to 3320\n",
      "Data columns (total 5 columns):\n",
      "ID           3316 non-null int64\n",
      "Gene         3316 non-null object\n",
      "Variation    3316 non-null object\n",
      "Text         3316 non-null object\n",
      "Class        3316 non-null int64\n",
      "dtypes: int64(2), object(3)\n",
      "memory usage: 155.4+ KB\n"
     ]
    }
   ],
   "source": [
    "medic.info()"
   ]
  },
  {
   "cell_type": "markdown",
   "metadata": {},
   "source": [
    "We are going to check that there are no variants of Gene or Variation with added spaces"
   ]
  },
  {
   "cell_type": "code",
   "execution_count": 15,
   "metadata": {},
   "outputs": [],
   "source": [
    "medic['Gene']=medic['Gene'].str.replace('\\s+','')\n",
    "medic['Variation']=medic['Variation'].str.replace('\\s+','')"
   ]
  },
  {
   "cell_type": "markdown",
   "metadata": {},
   "source": [
    "We are going to process the clinical text of __Text__ column.<br>\n",
    "1. Suppression of any punctuation symbols and numbers <br>\n",
    "2. Transformation to lower letters<br>\n",
    "3. Suppression of stop words<br>"
   ]
  },
  {
   "cell_type": "code",
   "execution_count": 16,
   "metadata": {},
   "outputs": [],
   "source": [
    "def text_processing(string):\n",
    "    \n",
    "    if type(string) == str:\n",
    "\n",
    "        string = re.sub(r'[^\\w\\s]',' ',string)\n",
    "        string= re.sub(r'\\b[0-9]+\\b\\s*', ' ', string)\n",
    "        string = re.sub(r\"\\s+\", ' ', string)\n",
    "    \n",
    "        stop_words = stopwords.words('english')\n",
    "        mylist=[]\n",
    "        for word in string:\n",
    "            mylist.append(word.lower())\n",
    "        string=''.join(mylist) \n",
    "    \n",
    "        word_tokens = word_tokenize(string) \n",
    "    \n",
    "        filtered_sentence = [] \n",
    "        stop_words = stopwords.words('english')\n",
    "        for w in word_tokens: \n",
    "            if w not in stop_words: \n",
    "                filtered_sentence.append(w) \n",
    "\n",
    "        string=' '.join(filtered_sentence)\n",
    "    \n",
    "    return string"
   ]
  },
  {
   "cell_type": "code",
   "execution_count": 17,
   "metadata": {},
   "outputs": [],
   "source": [
    "medic['Text']=medic['Text'].apply(lambda x: text_processing(x))"
   ]
  },
  {
   "cell_type": "code",
   "execution_count": 18,
   "metadata": {},
   "outputs": [
    {
     "data": {
      "text/html": [
       "<div>\n",
       "<style scoped>\n",
       "    .dataframe tbody tr th:only-of-type {\n",
       "        vertical-align: middle;\n",
       "    }\n",
       "\n",
       "    .dataframe tbody tr th {\n",
       "        vertical-align: top;\n",
       "    }\n",
       "\n",
       "    .dataframe thead th {\n",
       "        text-align: right;\n",
       "    }\n",
       "</style>\n",
       "<table border=\"1\" class=\"dataframe\">\n",
       "  <thead>\n",
       "    <tr style=\"text-align: right;\">\n",
       "      <th></th>\n",
       "      <th>ID</th>\n",
       "      <th>Gene</th>\n",
       "      <th>Variation</th>\n",
       "      <th>Text</th>\n",
       "      <th>Class</th>\n",
       "    </tr>\n",
       "  </thead>\n",
       "  <tbody>\n",
       "    <tr>\n",
       "      <th>0</th>\n",
       "      <td>0</td>\n",
       "      <td>FAM58A</td>\n",
       "      <td>TruncatingMutations</td>\n",
       "      <td>cyclin dependent kinases cdks regulate variety...</td>\n",
       "      <td>1</td>\n",
       "    </tr>\n",
       "    <tr>\n",
       "      <th>1</th>\n",
       "      <td>1</td>\n",
       "      <td>CBL</td>\n",
       "      <td>W802*</td>\n",
       "      <td>abstract background non small cell lung cancer...</td>\n",
       "      <td>2</td>\n",
       "    </tr>\n",
       "    <tr>\n",
       "      <th>2</th>\n",
       "      <td>2</td>\n",
       "      <td>CBL</td>\n",
       "      <td>Q249E</td>\n",
       "      <td>abstract background non small cell lung cancer...</td>\n",
       "      <td>2</td>\n",
       "    </tr>\n",
       "    <tr>\n",
       "      <th>3</th>\n",
       "      <td>3</td>\n",
       "      <td>CBL</td>\n",
       "      <td>N454D</td>\n",
       "      <td>recent evidence demonstrated acquired uniparen...</td>\n",
       "      <td>3</td>\n",
       "    </tr>\n",
       "    <tr>\n",
       "      <th>4</th>\n",
       "      <td>4</td>\n",
       "      <td>CBL</td>\n",
       "      <td>L399V</td>\n",
       "      <td>oncogenic mutations monomeric casitas b lineag...</td>\n",
       "      <td>4</td>\n",
       "    </tr>\n",
       "  </tbody>\n",
       "</table>\n",
       "</div>"
      ],
      "text/plain": [
       "   ID    Gene            Variation  \\\n",
       "0   0  FAM58A  TruncatingMutations   \n",
       "1   1     CBL                W802*   \n",
       "2   2     CBL                Q249E   \n",
       "3   3     CBL                N454D   \n",
       "4   4     CBL                L399V   \n",
       "\n",
       "                                                Text  Class  \n",
       "0  cyclin dependent kinases cdks regulate variety...      1  \n",
       "1  abstract background non small cell lung cancer...      2  \n",
       "2  abstract background non small cell lung cancer...      2  \n",
       "3  recent evidence demonstrated acquired uniparen...      3  \n",
       "4  oncogenic mutations monomeric casitas b lineag...      4  "
      ]
     },
     "execution_count": 18,
     "metadata": {},
     "output_type": "execute_result"
    }
   ],
   "source": [
    "medic.head()"
   ]
  },
  {
   "cell_type": "markdown",
   "metadata": {},
   "source": [
    "We are going to split data into training set and test set to try our models"
   ]
  },
  {
   "cell_type": "code",
   "execution_count": 19,
   "metadata": {},
   "outputs": [],
   "source": [
    "medic.drop(['ID'],axis=1,inplace=True)\n",
    "y=medic['Class']"
   ]
  },
  {
   "cell_type": "code",
   "execution_count": 20,
   "metadata": {},
   "outputs": [],
   "source": [
    "X_train, X_test, y_train, y_test = train_test_split(medic, y, stratify=y, test_size=0.2,random_state=40)"
   ]
  },
  {
   "cell_type": "code",
   "execution_count": 21,
   "metadata": {},
   "outputs": [
    {
     "name": "stdout",
     "output_type": "stream",
     "text": [
      "Data points in train data: 2652\n",
      "Data points in test data: 664\n"
     ]
    }
   ],
   "source": [
    "print('Data points in train data:', X_train.shape[0])\n",
    "print('Data points in test data:', X_test.shape[0])"
   ]
  },
  {
   "cell_type": "code",
   "execution_count": 22,
   "metadata": {},
   "outputs": [
    {
     "data": {
      "text/html": [
       "<div>\n",
       "<style scoped>\n",
       "    .dataframe tbody tr th:only-of-type {\n",
       "        vertical-align: middle;\n",
       "    }\n",
       "\n",
       "    .dataframe tbody tr th {\n",
       "        vertical-align: top;\n",
       "    }\n",
       "\n",
       "    .dataframe thead th {\n",
       "        text-align: right;\n",
       "    }\n",
       "</style>\n",
       "<table border=\"1\" class=\"dataframe\">\n",
       "  <thead>\n",
       "    <tr style=\"text-align: right;\">\n",
       "      <th></th>\n",
       "      <th>Gene</th>\n",
       "      <th>Variation</th>\n",
       "      <th>Text</th>\n",
       "      <th>Class</th>\n",
       "    </tr>\n",
       "  </thead>\n",
       "  <tbody>\n",
       "    <tr>\n",
       "      <th>891</th>\n",
       "      <td>PDGFRA</td>\n",
       "      <td>G829R</td>\n",
       "      <td>activating mutations platelet derived growth f...</td>\n",
       "      <td>3</td>\n",
       "    </tr>\n",
       "    <tr>\n",
       "      <th>324</th>\n",
       "      <td>ROS1</td>\n",
       "      <td>G2032R</td>\n",
       "      <td>increasing number genetic alterations aberrant...</td>\n",
       "      <td>2</td>\n",
       "    </tr>\n",
       "    <tr>\n",
       "      <th>1758</th>\n",
       "      <td>IDH1</td>\n",
       "      <td>A134D</td>\n",
       "      <td>introduction somatic mutations human cytosolic...</td>\n",
       "      <td>4</td>\n",
       "    </tr>\n",
       "    <tr>\n",
       "      <th>2011</th>\n",
       "      <td>MAP2K1</td>\n",
       "      <td>I111P</td>\n",
       "      <td>utilizing genetic screen yeast saccharomyces c...</td>\n",
       "      <td>2</td>\n",
       "    </tr>\n",
       "    <tr>\n",
       "      <th>1947</th>\n",
       "      <td>MEF2B</td>\n",
       "      <td>D83V</td>\n",
       "      <td>mef2b gene encodes transcriptional activator f...</td>\n",
       "      <td>7</td>\n",
       "    </tr>\n",
       "  </tbody>\n",
       "</table>\n",
       "</div>"
      ],
      "text/plain": [
       "        Gene Variation                                               Text  \\\n",
       "891   PDGFRA     G829R  activating mutations platelet derived growth f...   \n",
       "324     ROS1    G2032R  increasing number genetic alterations aberrant...   \n",
       "1758    IDH1     A134D  introduction somatic mutations human cytosolic...   \n",
       "2011  MAP2K1     I111P  utilizing genetic screen yeast saccharomyces c...   \n",
       "1947   MEF2B      D83V  mef2b gene encodes transcriptional activator f...   \n",
       "\n",
       "      Class  \n",
       "891       3  \n",
       "324       2  \n",
       "1758      4  \n",
       "2011      2  \n",
       "1947      7  "
      ]
     },
     "execution_count": 22,
     "metadata": {},
     "output_type": "execute_result"
    }
   ],
   "source": [
    "X_train.head()"
   ]
  },
  {
   "cell_type": "markdown",
   "metadata": {},
   "source": [
    "We are going to check the distribution of classes in training set and test set to validate further results. "
   ]
  },
  {
   "cell_type": "code",
   "execution_count": 23,
   "metadata": {},
   "outputs": [
    {
     "name": "stdout",
     "output_type": "stream",
     "text": [
      "1    17.081448\n",
      "2    13.612368\n",
      "3     2.677225\n",
      "4    20.701357\n",
      "5     7.315234\n",
      "6     8.220211\n",
      "7    28.695324\n",
      "8     0.565611\n",
      "9     1.131222\n",
      "Name: Class, dtype: float64\n"
     ]
    }
   ],
   "source": [
    "total_train=y_train.count()\n",
    "y_train_distribution=y_train.value_counts().sort_index()\n",
    "y_train_distribution_norm=y_train_distribution.apply(lambda x: x/total_train*100)\n",
    "print(y_train_distribution_norm)"
   ]
  },
  {
   "cell_type": "code",
   "execution_count": 24,
   "metadata": {},
   "outputs": [
    {
     "name": "stdout",
     "output_type": "stream",
     "text": [
      "1    17.018072\n",
      "2    13.704819\n",
      "3     2.710843\n",
      "4    20.632530\n",
      "5     7.228916\n",
      "6     8.283133\n",
      "7    28.765060\n",
      "8     0.602410\n",
      "9     1.054217\n",
      "Name: Class, dtype: float64\n"
     ]
    }
   ],
   "source": [
    "total_test=y_test.count()\n",
    "y_test_distribution=y_test.value_counts().sort_index()\n",
    "y_test_distribution_norm=y_test_distribution.apply(lambda x: x/total_test*100)\n",
    "print(y_test_distribution_norm)"
   ]
  },
  {
   "cell_type": "markdown",
   "metadata": {},
   "source": [
    "We can plot these results in 2 figures and check that the 2 distribution are very closed, due to the fact that stratify parameter of train_test_split function generates similar distributions."
   ]
  },
  {
   "cell_type": "code",
   "execution_count": 25,
   "metadata": {},
   "outputs": [
    {
     "data": {
      "image/png": "[encoded data removed]",
      "text/plain": [
       "<Figure size 864x288 with 2 Axes>"
      ]
     },
     "metadata": {
      "needs_background": "light"
     },
     "output_type": "display_data"
    }
   ],
   "source": [
    "plt.figure(figsize=(12,4))\n",
    "plt.subplot(121)\n",
    "y_train_distribution_norm.plot(kind='bar',color=tuple([\"r\", \"g\",\"b\",\"k\",\"y\",\"m\",\"c\"]))\n",
    "plt.title('Training')\n",
    "plt.xlabel('Class')\n",
    "plt.ylabel('% value')\n",
    "plt.grid()\n",
    "\n",
    "plt.subplot(122)\n",
    "y_test_distribution_norm.plot(kind='bar',color=tuple([\"r\", \"g\",\"b\",\"k\",\"y\",\"m\",\"c\"]))\n",
    "plt.title('Test')\n",
    "plt.xlabel('Class')\n",
    "plt.ylabel('% value')\n",
    "plt.grid()"
   ]
  },
  {
   "cell_type": "code",
   "execution_count": 26,
   "metadata": {},
   "outputs": [
    {
     "data": {
      "image/png": "[encoded data removed]",
      "text/plain": [
       "<IPython.core.display.Image object>"
      ]
     },
     "execution_count": 26,
     "metadata": {},
     "output_type": "execute_result"
    }
   ],
   "source": [
    "i = Image(filename='Log_loss_formula.png')\n",
    "i"
   ]
  },
  {
   "cell_type": "markdown",
   "metadata": {},
   "source": [
    "For evaluating our models we are going to use __log-loss__ metrics.<br>\n",
    "This metric is defined in the formula above:<br>\n",
    "i is the ith row number and j is the jth class"
   ]
  },
  {
   "cell_type": "markdown",
   "metadata": {},
   "source": [
    "To better evaluate our results we have to compare them to an initial value. As our models are going to give some relationship between Gene, Variation, Text and Class, we are going to generate random numbers and check what value we are going to obtain with this random model. This value will be our initial value. Our machine learning models must give a better result than this initial value."
   ]
  },
  {
   "cell_type": "code",
   "execution_count": 27,
   "metadata": {},
   "outputs": [
    {
     "name": "stdout",
     "output_type": "stream",
     "text": [
      "log-loss on Test Data using Random Model 2.4811863081577563\n"
     ]
    }
   ],
   "source": [
    "random_test=np.zeros((len(y_test),9))\n",
    "for i in range(len(y_test)):\n",
    "    rand_probs=np.random.rand(1,9)\n",
    "    random_test[i]=rand_probs/np.sum(rand_probs)\n",
    "print(\"log-loss on Test Data using Random Model\",log_loss(y_test,random_test,eps=1e-15))"
   ]
  },
  {
   "cell_type": "code",
   "execution_count": 28,
   "metadata": {},
   "outputs": [],
   "source": [
    "y_random =np.argmax(random_test, axis=1)\n",
    "y_random=y_random+1"
   ]
  },
  {
   "cell_type": "code",
   "execution_count": 29,
   "metadata": {},
   "outputs": [],
   "source": [
    "cm=confusion_matrix(y_test,y_random)"
   ]
  },
  {
   "cell_type": "code",
   "execution_count": 30,
   "metadata": {},
   "outputs": [
    {
     "data": {
      "image/png": "[encoded data removed]",
      "text/plain": [
       "<Figure size 1296x576 with 2 Axes>"
      ]
     },
     "metadata": {
      "needs_background": "light"
     },
     "output_type": "display_data"
    }
   ],
   "source": [
    "labels=[1,2,3,4,5,6,7,8,9]\n",
    "plt.figure(figsize=(18,8))\n",
    "sns.heatmap(cm,annot=True,cmap=\"YlGnBu\",xticklabels=labels,yticklabels=labels)\n",
    "plt.xlabel('True Class')\n",
    "plt.ylabel('Predicted Class')\n",
    "plt.show()"
   ]
  },
  {
   "cell_type": "code",
   "execution_count": 31,
   "metadata": {},
   "outputs": [
    {
     "name": "stdout",
     "output_type": "stream",
     "text": [
      "In random prediction we obtain 11.60% of accuracy\n"
     ]
    }
   ],
   "source": [
    "acc=(np.trace(cm)/np.sum(cm)*100)\n",
    "print(\"In random prediction we obtain {0:.2f}% of accuracy\".format(round(acc,2)))"
   ]
  },
  {
   "cell_type": "markdown",
   "metadata": {},
   "source": [
    "Before testing the model for the whole independent variables, we are going to study these variables separately, apply the model and check the influence of each of them.\n",
    "We are going to test first __Gene__, then __Variation__ and finally __Text__. "
   ]
  },
  {
   "cell_type": "markdown",
   "metadata": {},
   "source": [
    "<span style=\"color:red\"><span style=\"font-size:15px\">First Variable : Gene</span></span>"
   ]
  },
  {
   "cell_type": "code",
   "execution_count": 32,
   "metadata": {},
   "outputs": [],
   "source": [
    "collection_genes=X_train['Gene'].value_counts()"
   ]
  },
  {
   "cell_type": "code",
   "execution_count": 33,
   "metadata": {},
   "outputs": [
    {
     "data": {
      "text/plain": [
       "BRCA1     215\n",
       "TP53      126\n",
       "EGFR      112\n",
       "BRCA2     103\n",
       "PTEN      100\n",
       "KIT        81\n",
       "BRAF       77\n",
       "ERBB2      59\n",
       "ALK        52\n",
       "PDGFRA     50\n",
       "Name: Gene, dtype: int64"
      ]
     },
     "execution_count": 33,
     "metadata": {},
     "output_type": "execute_result"
    }
   ],
   "source": [
    "collection_genes.head(10)"
   ]
  },
  {
   "cell_type": "code",
   "execution_count": 34,
   "metadata": {},
   "outputs": [
    {
     "data": {
      "text/plain": [
       "246"
      ]
     },
     "execution_count": 34,
     "metadata": {},
     "output_type": "execute_result"
    }
   ],
   "source": [
    "collection_genes.count()"
   ]
  },
  {
   "cell_type": "markdown",
   "metadata": {},
   "source": [
    "We have 246 types of Genes in the train set and ,as we may notice in collection_genes series, 90% train set values are among the first 100 Gene values.<br>\n",
    "We can see this distribution in the following figure:"
   ]
  },
  {
   "cell_type": "code",
   "execution_count": 35,
   "metadata": {},
   "outputs": [
    {
     "data": {
      "image/png": "[encoded data removed]",
      "text/plain": [
       "<Figure size 432x288 with 1 Axes>"
      ]
     },
     "metadata": {
      "needs_background": "light"
     },
     "output_type": "display_data"
    }
   ],
   "source": [
    "total = sum(collection_genes.values);\n",
    "percentage = collection_genes.values/total;\n",
    "cumul = np.cumsum(percentage)\n",
    "plt.plot(cumul,label='Cumulative distribution of Genes')\n",
    "plt.grid()\n",
    "plt.legend()\n",
    "plt.show()"
   ]
  },
  {
   "cell_type": "markdown",
   "metadata": {},
   "source": [
    "Gene variable is a categorical variable. So it will be transformed in numerical values to be used furtherly by python librairies.\n",
    "\n",
    "We will try 2 encoding methods: \n",
    "\n",
    "1. One-hot-encoder\n",
    "2. Proportional encoder "
   ]
  },
  {
   "cell_type": "markdown",
   "metadata": {},
   "source": [
    "Concerning one_hot_encoder, we could use pandas function get_dummies but if there are too many values for categorical variable it may use a lot of memory. There is another function use by NLP which can give similar results using much less memory as it can optimize sparse matrices. This function is CountVectorizer. It will consider every value of 'Gene' variable as a text and will count every time a value appears. It generates a column for each different value of variable 'Gene'"
   ]
  },
  {
   "cell_type": "code",
   "execution_count": 36,
   "metadata": {},
   "outputs": [],
   "source": [
    "#one-hot encoding\n",
    "gene_vectorizer = CountVectorizer()\n",
    "train_gene_onehotencoding = gene_vectorizer.fit_transform(X_train['Gene'])\n",
    "test_gene_onehotencoding = gene_vectorizer.transform(X_test['Gene'])"
   ]
  },
  {
   "cell_type": "code",
   "execution_count": 37,
   "metadata": {},
   "outputs": [
    {
     "name": "stdout",
     "output_type": "stream",
     "text": [
      "(2652, 245)\n",
      "(664, 245)\n"
     ]
    }
   ],
   "source": [
    "print(train_gene_onehotencoding.shape)\n",
    "print(test_gene_onehotencoding.shape)"
   ]
  },
  {
   "cell_type": "code",
   "execution_count": 38,
   "metadata": {},
   "outputs": [
    {
     "data": {
      "text/plain": [
       "['abl1',\n",
       " 'acvr1',\n",
       " 'ago2',\n",
       " 'akt1',\n",
       " 'akt2',\n",
       " 'akt3',\n",
       " 'alk',\n",
       " 'apc',\n",
       " 'ar',\n",
       " 'araf',\n",
       " 'arid1a',\n",
       " 'arid1b',\n",
       " 'arid2',\n",
       " 'asxl1',\n",
       " 'asxl2',\n",
       " 'atm',\n",
       " 'atrx',\n",
       " 'aurka',\n",
       " 'aurkb',\n",
       " 'axin1',\n",
       " 'axl',\n",
       " 'b2m',\n",
       " 'bap1',\n",
       " 'bcl10',\n",
       " 'bcl2',\n",
       " 'bcor',\n",
       " 'braf',\n",
       " 'brca1',\n",
       " 'brca2',\n",
       " 'brd4',\n",
       " 'brip1',\n",
       " 'btk',\n",
       " 'card11',\n",
       " 'carm1',\n",
       " 'casp8',\n",
       " 'cbl',\n",
       " 'ccnd1',\n",
       " 'ccnd2',\n",
       " 'ccnd3',\n",
       " 'ccne1',\n",
       " 'cdh1',\n",
       " 'cdk12',\n",
       " 'cdk4',\n",
       " 'cdk6',\n",
       " 'cdk8',\n",
       " 'cdkn1a',\n",
       " 'cdkn1b',\n",
       " 'cdkn2a',\n",
       " 'cdkn2b',\n",
       " 'cdkn2c',\n",
       " 'chek2',\n",
       " 'cic',\n",
       " 'crebbp',\n",
       " 'ctcf',\n",
       " 'ctla4',\n",
       " 'ctnnb1',\n",
       " 'ddr2',\n",
       " 'dicer1',\n",
       " 'dnmt3a',\n",
       " 'dnmt3b',\n",
       " 'dusp4',\n",
       " 'egfr',\n",
       " 'eif1ax',\n",
       " 'elf3',\n",
       " 'ep300',\n",
       " 'epas1',\n",
       " 'erbb2',\n",
       " 'erbb3',\n",
       " 'erbb4',\n",
       " 'ercc2',\n",
       " 'ercc3',\n",
       " 'ercc4',\n",
       " 'erg',\n",
       " 'errfi1',\n",
       " 'esr1',\n",
       " 'etv1',\n",
       " 'etv6',\n",
       " 'ewsr1',\n",
       " 'ezh2',\n",
       " 'fam58a',\n",
       " 'fanca',\n",
       " 'fancc',\n",
       " 'fat1',\n",
       " 'fbxw7',\n",
       " 'fgf19',\n",
       " 'fgf3',\n",
       " 'fgf4',\n",
       " 'fgfr1',\n",
       " 'fgfr2',\n",
       " 'fgfr3',\n",
       " 'fgfr4',\n",
       " 'flt3',\n",
       " 'foxa1',\n",
       " 'foxl2',\n",
       " 'foxo1',\n",
       " 'foxp1',\n",
       " 'fubp1',\n",
       " 'gata3',\n",
       " 'gna11',\n",
       " 'gnaq',\n",
       " 'gnas',\n",
       " 'h3f3a',\n",
       " 'hist1h1c',\n",
       " 'hla',\n",
       " 'hnf1a',\n",
       " 'hras',\n",
       " 'idh1',\n",
       " 'idh2',\n",
       " 'igf1r',\n",
       " 'ikbke',\n",
       " 'il7r',\n",
       " 'jak1',\n",
       " 'jak2',\n",
       " 'jun',\n",
       " 'kdm5a',\n",
       " 'kdm5c',\n",
       " 'kdm6a',\n",
       " 'kdr',\n",
       " 'keap1',\n",
       " 'kit',\n",
       " 'klf4',\n",
       " 'kmt2a',\n",
       " 'kmt2b',\n",
       " 'kmt2c',\n",
       " 'kmt2d',\n",
       " 'knstrn',\n",
       " 'kras',\n",
       " 'lats1',\n",
       " 'lats2',\n",
       " 'map2k1',\n",
       " 'map2k2',\n",
       " 'map2k4',\n",
       " 'map3k1',\n",
       " 'mapk1',\n",
       " 'mdm2',\n",
       " 'mdm4',\n",
       " 'med12',\n",
       " 'mef2b',\n",
       " 'men1',\n",
       " 'met',\n",
       " 'mga',\n",
       " 'mlh1',\n",
       " 'mpl',\n",
       " 'msh2',\n",
       " 'msh6',\n",
       " 'mtor',\n",
       " 'myc',\n",
       " 'mycn',\n",
       " 'myd88',\n",
       " 'myod1',\n",
       " 'ncor1',\n",
       " 'nf1',\n",
       " 'nf2',\n",
       " 'nfe2l2',\n",
       " 'nfkbia',\n",
       " 'nkx2',\n",
       " 'notch1',\n",
       " 'notch2',\n",
       " 'npm1',\n",
       " 'nras',\n",
       " 'nsd1',\n",
       " 'ntrk1',\n",
       " 'ntrk2',\n",
       " 'ntrk3',\n",
       " 'nup93',\n",
       " 'pax8',\n",
       " 'pbrm1',\n",
       " 'pdgfra',\n",
       " 'pdgfrb',\n",
       " 'pik3ca',\n",
       " 'pik3cb',\n",
       " 'pik3cd',\n",
       " 'pik3r1',\n",
       " 'pik3r2',\n",
       " 'pim1',\n",
       " 'pms2',\n",
       " 'pole',\n",
       " 'ppp2r1a',\n",
       " 'ppp6c',\n",
       " 'prdm1',\n",
       " 'ptch1',\n",
       " 'pten',\n",
       " 'ptpn11',\n",
       " 'ptprd',\n",
       " 'ptprt',\n",
       " 'rab35',\n",
       " 'rac1',\n",
       " 'rad21',\n",
       " 'rad50',\n",
       " 'rad51c',\n",
       " 'rad51d',\n",
       " 'rad54l',\n",
       " 'raf1',\n",
       " 'rara',\n",
       " 'rasa1',\n",
       " 'rb1',\n",
       " 'rbm10',\n",
       " 'ret',\n",
       " 'rheb',\n",
       " 'rhoa',\n",
       " 'rictor',\n",
       " 'rit1',\n",
       " 'rnf43',\n",
       " 'ros1',\n",
       " 'runx1',\n",
       " 'rxra',\n",
       " 'rybp',\n",
       " 'sdhb',\n",
       " 'sdhc',\n",
       " 'setd2',\n",
       " 'sf3b1',\n",
       " 'shq1',\n",
       " 'smad2',\n",
       " 'smad3',\n",
       " 'smad4',\n",
       " 'smarca4',\n",
       " 'smarcb1',\n",
       " 'smo',\n",
       " 'sos1',\n",
       " 'sox9',\n",
       " 'spop',\n",
       " 'src',\n",
       " 'srsf2',\n",
       " 'stag2',\n",
       " 'stat3',\n",
       " 'stk11',\n",
       " 'tcf3',\n",
       " 'tcf7l2',\n",
       " 'tert',\n",
       " 'tet1',\n",
       " 'tet2',\n",
       " 'tgfbr1',\n",
       " 'tgfbr2',\n",
       " 'tmprss2',\n",
       " 'tp53',\n",
       " 'tp53bp1',\n",
       " 'tsc1',\n",
       " 'tsc2',\n",
       " 'u2af1',\n",
       " 'vegfa',\n",
       " 'vhl',\n",
       " 'whsc1l1',\n",
       " 'xpo1',\n",
       " 'xrcc2',\n",
       " 'yap1']"
      ]
     },
     "execution_count": 38,
     "metadata": {},
     "output_type": "execute_result"
    }
   ],
   "source": [
    "gene_vectorizer.get_feature_names()"
   ]
  },
  {
   "cell_type": "markdown",
   "metadata": {},
   "source": [
    "This encoding is very straighforward but it generated a lot columns corresponding to unique values for variable 'Gene'. That is the reason why we are going to try another type of encoding to reduce the numer of generated columns."
   ]
  },
  {
   "cell_type": "markdown",
   "metadata": {},
   "source": [
    "The proportional encoding is based on the fact that we can calculate the number of times that a 'Gene' is linked to a 'Class'."
   ]
  },
  {
   "cell_type": "markdown",
   "metadata": {},
   "source": [
    "We are going to create a dictionary with __Gene__ as a key and a probabilities based array as a value. These probabilities are calculated as the number of times a Gene is linked to a Class divided by the total number of dataframe rows.\n",
    "However, very often, there are Genes which are not linked to any Class. This fact appears mainly because of unbalanced classes. So we are going to use Laplace smoothing to assign a not null probability to these classes using 'alpha' parameter. "
   ]
  },
  {
   "cell_type": "code",
   "execution_count": 39,
   "metadata": {},
   "outputs": [],
   "source": [
    "#we will create a function that will be used for both variables Gene and Variation\n",
    "def creating_dict(alpha,dataframe,column):\n",
    "    \n",
    "    count_features = dataframe[column].value_counts()\n",
    "    \n",
    "    dictionary=dict()\n",
    "    \n",
    "    for feature,feature_count in count_features.items():\n",
    "        list_feature=[]\n",
    "        for myclass in range(1,10):\n",
    "            num_rows = dataframe.loc[(dataframe['Class']==myclass) & (dataframe[column]==feature)]\n",
    "            list_feature.append((num_rows.shape[0] + alpha*1)/ (feature_count + 9*alpha))\n",
    "        dictionary[feature]=list_feature\n",
    "    return dictionary\n",
    "    "
   ]
  },
  {
   "cell_type": "code",
   "execution_count": 40,
   "metadata": {},
   "outputs": [],
   "source": [
    "#creation of training dictionary\n",
    "mydict_train=creating_dict(1,X_train,'Gene')"
   ]
  },
  {
   "cell_type": "markdown",
   "metadata": {},
   "source": [
    "Once we have a train dictionary, we are going to generate 9 columns based on the dictionary probabilities. If dataframe key is not in train dictionary, we will use the same probability for all 9 columns (p=1/9). (We tried before, classes distribution default probability, but the results were fairly bad)"
   ]
  },
  {
   "cell_type": "code",
   "execution_count": 41,
   "metadata": {},
   "outputs": [],
   "source": [
    "# This function will be used for both 'Gene' and 'Variation'\n",
    "def proportional_features(dataframe,column):\n",
    "    \n",
    "    count_train_features = X_train[column].value_counts()\n",
    "    \n",
    "    prop_columns = []\n",
    "   \n",
    "    for index, row in dataframe.iterrows():\n",
    "        if row[column] in dict(count_train_features).keys():\n",
    "            prop_columns.append(mydict_train[row[column]])\n",
    "        else:\n",
    "            prop_columns.append([1/9,1/9,1/9,1/9,1/9,1/9,1/9,1/9,1/9])\n",
    "            \n",
    "    return np.array(prop_columns)"
   ]
  },
  {
   "cell_type": "code",
   "execution_count": 42,
   "metadata": {},
   "outputs": [],
   "source": [
    "train_gene_proportionalencoding=proportional_features(X_train,'Gene')\n",
    "test_gene_proportionalencoding=proportional_features(X_test,'Gene')"
   ]
  },
  {
   "cell_type": "code",
   "execution_count": 43,
   "metadata": {},
   "outputs": [
    {
     "name": "stdout",
     "output_type": "stream",
     "text": [
      "(2652, 9)\n",
      "(664, 9)\n"
     ]
    }
   ],
   "source": [
    "print(train_gene_proportionalencoding.shape)\n",
    "print(test_gene_proportionalencoding.shape)"
   ]
  },
  {
   "cell_type": "markdown",
   "metadata": {},
   "source": [
    "We are going to check later several models with all relevant variables, but for testing variables separately to verify their significance, only a simple SGDClassifier model will be used. To test successfully log-loss metric we need predicted probabilities. Unfortunately not all the models can deliver both predicted values and predicted probabilities. In particular, SGDClassifier only delivers predicted values so an extra transformation to generate corresponding probabilities will be needed. There is a special model named CalibratedClassifierCV which can generate probabilities needed for log-loss metrics from original model fitting.\n",
    "\n",
    "SGDClassifier results can vary depending on several hyperparameters but alpha parameter will be tuned to find optimal values."
   ]
  },
  {
   "cell_type": "markdown",
   "metadata": {},
   "source": [
    "OneHotEncoding"
   ]
  },
  {
   "cell_type": "code",
   "execution_count": 44,
   "metadata": {},
   "outputs": [],
   "source": [
    "#SGDClassifier model tuning using onehotencoding for gene feature\n",
    "param_grid = {'alpha': [0.00005,0.00006,0.00008,0.00009,0.0001,0.00011,0.00012,0.00013,0.00014]}\n",
    "acc_scorer = make_scorer(accuracy_score)\n",
    "clf = SGDClassifier(penalty='l2',loss='log',random_state=42)\n",
    "grid_search=GridSearchCV(clf, param_grid, scoring=acc_scorer,\n",
    "cv=5, return_train_score=True,verbose=0)\n",
    "grid_result = grid_search.fit(train_gene_onehotencoding,y_train)\n",
    "alpha=grid_result.best_params_['alpha']"
   ]
  },
  {
   "cell_type": "code",
   "execution_count": 45,
   "metadata": {},
   "outputs": [
    {
     "name": "stdout",
     "output_type": "stream",
     "text": [
      "  log loss for train set is: 1.0445\n",
      "  log loss for test  set is: 1.1739\n"
     ]
    }
   ],
   "source": [
    "#SGDClassifier model best result using onehotencoding for gene feature\n",
    "model = SGDClassifier(alpha=alpha, penalty='l2', loss='log', random_state=42)\n",
    "model.fit(train_gene_onehotencoding, y_train)\n",
    "sig_model = CalibratedClassifierCV(model, method=\"sigmoid\")\n",
    "sig_model.fit(train_gene_onehotencoding, y_train)\n",
    "\n",
    "y_pred = sig_model.predict_proba(train_gene_onehotencoding)\n",
    "print(\"  log loss for train set is: {0:.4f}\".format(log_loss(y_train, y_pred, labels=model.classes_, eps=1e-15)))\n",
    "y_pred = sig_model.predict_proba(test_gene_onehotencoding)\n",
    "print(\"  log loss for test  set is: {0:.4f}\".format(log_loss(y_test, y_pred, labels=model.classes_, eps=1e-15)))"
   ]
  },
  {
   "cell_type": "markdown",
   "metadata": {},
   "source": [
    "ProportionalEncoding"
   ]
  },
  {
   "cell_type": "code",
   "execution_count": 46,
   "metadata": {},
   "outputs": [],
   "source": [
    "#SGDClassifier model tuning using proportionalencoding for gene feature\n",
    "param_grid = {'alpha': [0.00005,0.00006,0.00008,0.00009,0.0001,0.00011,0.00012,0.00013,0.00014]}\n",
    "acc_scorer = make_scorer(accuracy_score)\n",
    "clf = SGDClassifier(penalty='l2',loss='log',random_state=42)\n",
    "grid_search=GridSearchCV(clf, param_grid, scoring=acc_scorer,\n",
    "cv=5, return_train_score=True,verbose=0)\n",
    "grid_result = grid_search.fit(train_gene_proportionalencoding,y_train)\n",
    "alpha=grid_result.best_params_['alpha']"
   ]
  },
  {
   "cell_type": "code",
   "execution_count": 47,
   "metadata": {},
   "outputs": [
    {
     "name": "stdout",
     "output_type": "stream",
     "text": [
      "  log loss for train set is: 1.0611\n",
      "  log loss for test  set is: 1.1779\n"
     ]
    }
   ],
   "source": [
    "#SGDClassifier model best result using proportionalencoding for gene feature\n",
    "model = SGDClassifier(alpha=alpha, penalty='l2', loss='log', random_state=42)\n",
    "model.fit(train_gene_proportionalencoding, y_train)\n",
    "sig_model = CalibratedClassifierCV(model, method=\"sigmoid\")\n",
    "sig_model.fit(train_gene_proportionalencoding, y_train)\n",
    "\n",
    "y_pred = sig_model.predict_proba(train_gene_proportionalencoding)\n",
    "print(\"  log loss for train set is: {0:.4f}\".format(log_loss(y_train, y_pred, labels=model.classes_, eps=1e-15)))\n",
    "y_pred = sig_model.predict_proba(test_gene_proportionalencoding)\n",
    "print(\"  log loss for test  set is: {0:.4f}\".format(log_loss(y_test, y_pred, labels=model.classes_, eps=1e-15)))"
   ]
  },
  {
   "cell_type": "markdown",
   "metadata": {},
   "source": [
    "Both encodings are giving similar results for SGDClassifier model."
   ]
  },
  {
   "cell_type": "markdown",
   "metadata": {},
   "source": [
    "Concerning proportional encoding we are going to check how many features are common to train and test sets.  "
   ]
  },
  {
   "cell_type": "code",
   "execution_count": 48,
   "metadata": {},
   "outputs": [],
   "source": [
    "train_gene_vectorizer = CountVectorizer()\n",
    "train_gene_feature_onehotCoding = train_gene_vectorizer.fit_transform(X_train['Gene'])\n",
    "train_gene_features= train_gene_vectorizer.get_feature_names()\n",
    "\n",
    "test_gene_vectorizer = CountVectorizer()\n",
    "test_gene_feature_onehotCoding = test_gene_vectorizer.fit_transform(X_test['Gene'])\n",
    "test_gene_features= test_gene_vectorizer.get_feature_names()"
   ]
  },
  {
   "cell_type": "code",
   "execution_count": 49,
   "metadata": {},
   "outputs": [
    {
     "name": "stdout",
     "output_type": "stream",
     "text": [
      "There are 90.24% of test features present in train features\n"
     ]
    }
   ],
   "source": [
    "ratio=len(set(test_gene_features).intersection(set(train_gene_features)))/len(set(test_gene_features))*100\n",
    "\n",
    "print(\"There are {0:.2f}% of test features present in train features\".format(ratio))"
   ]
  },
  {
   "cell_type": "markdown",
   "metadata": {},
   "source": [
    "Concerning Proportional Encoding, the results will be better the higher the common features between train sets and test sets are."
   ]
  },
  {
   "cell_type": "markdown",
   "metadata": {},
   "source": [
    "<span style=\"color:red\"><span style=\"font-size:15px\">Second Variable : Variation</span></span>"
   ]
  },
  {
   "cell_type": "code",
   "execution_count": 50,
   "metadata": {},
   "outputs": [],
   "source": [
    "collection_variations=X_train['Variation'].value_counts()"
   ]
  },
  {
   "cell_type": "code",
   "execution_count": 51,
   "metadata": {},
   "outputs": [
    {
     "data": {
      "text/plain": [
       "TruncatingMutations    72\n",
       "Amplification          58\n",
       "Deletion               58\n",
       "Fusions                27\n",
       "Overexpression          6\n",
       "E17K                    3\n",
       "Q61H                    3\n",
       "Q61R                    3\n",
       "T58I                    3\n",
       "G12V                    3\n",
       "Name: Variation, dtype: int64"
      ]
     },
     "execution_count": 51,
     "metadata": {},
     "output_type": "execute_result"
    }
   ],
   "source": [
    "collection_variations.head(10)"
   ]
  },
  {
   "cell_type": "code",
   "execution_count": 52,
   "metadata": {},
   "outputs": [
    {
     "data": {
      "text/plain": [
       "2397"
      ]
     },
     "execution_count": 52,
     "metadata": {},
     "output_type": "execute_result"
    }
   ],
   "source": [
    "collection_variations.count()"
   ]
  },
  {
   "cell_type": "markdown",
   "metadata": {},
   "source": [
    "We have 2397 types of Variation in the train set and ,as we may notice in collection_variations series, only 5 types of (Gene) Variation appear more than 3 times. 2384 types of collection_variations appear twice or once.\n",
    "We can see this distribution in the following figure:"
   ]
  },
  {
   "cell_type": "code",
   "execution_count": 53,
   "metadata": {},
   "outputs": [
    {
     "data": {
      "image/png": "[encoded data removed]",
      "text/plain": [
       "<Figure size 432x288 with 1 Axes>"
      ]
     },
     "metadata": {
      "needs_background": "light"
     },
     "output_type": "display_data"
    }
   ],
   "source": [
    "total = sum(collection_variations.values);\n",
    "percentage = collection_variations.values/total;\n",
    "cumul = np.cumsum(percentage)\n",
    "plt.plot(cumul,label='Cumulative distribution of Variations')\n",
    "plt.grid()\n",
    "plt.legend()\n",
    "plt.show()"
   ]
  },
  {
   "cell_type": "markdown",
   "metadata": {},
   "source": [
    "As it has been done for Gene column, we are going to try 2 different encodings: OneHotEncoding and ProportionalEncoding."
   ]
  },
  {
   "cell_type": "markdown",
   "metadata": {},
   "source": [
    "OneHotEncoding"
   ]
  },
  {
   "cell_type": "code",
   "execution_count": 54,
   "metadata": {},
   "outputs": [],
   "source": [
    "#one-hot encoding\n",
    "variation_vectorizer = CountVectorizer()\n",
    "train_variation_onehotencoding = variation_vectorizer.fit_transform(X_train['Variation'])\n",
    "test_variation_onehotencoding = variation_vectorizer.transform(X_test['Variation'])"
   ]
  },
  {
   "cell_type": "code",
   "execution_count": 55,
   "metadata": {},
   "outputs": [
    {
     "name": "stdout",
     "output_type": "stream",
     "text": [
      "(2652, 2429)\n",
      "(664, 2429)\n"
     ]
    }
   ],
   "source": [
    "print(train_variation_onehotencoding.shape)\n",
    "print(test_variation_onehotencoding.shape)"
   ]
  },
  {
   "cell_type": "code",
   "execution_count": 56,
   "metadata": {},
   "outputs": [],
   "source": [
    "#SGDClassifier model tuning using onehotencoding for variation feature\n",
    "param_grid = {'alpha': [0.0005,0.0006,0.0008,0.0009,0.001,0.0011,0.0012,0.0013,0.0014]}\n",
    "acc_scorer = make_scorer(accuracy_score)\n",
    "clf = SGDClassifier(penalty='l2',loss='log',random_state=42)\n",
    "grid_search=GridSearchCV(clf, param_grid, scoring=acc_scorer,\n",
    "cv=5, return_train_score=True,verbose=0)\n",
    "grid_result = grid_search.fit(train_variation_onehotencoding,y_train)\n",
    "alpha=grid_result.best_params_['alpha']"
   ]
  },
  {
   "cell_type": "code",
   "execution_count": 57,
   "metadata": {},
   "outputs": [
    {
     "name": "stdout",
     "output_type": "stream",
     "text": [
      "  log loss for train set is: 1.1148\n",
      "  log loss for test  set is: 1.6763\n"
     ]
    }
   ],
   "source": [
    "#SGDClassifier model best result using onehotencoding for variation feature\n",
    "model = SGDClassifier(alpha=alpha, penalty='l2', loss='log', random_state=42)\n",
    "model.fit(train_variation_onehotencoding, y_train)\n",
    "sig_model = CalibratedClassifierCV(model, method=\"sigmoid\")\n",
    "sig_model.fit(train_variation_onehotencoding, y_train)\n",
    "\n",
    "y_pred = sig_model.predict_proba(train_variation_onehotencoding)\n",
    "print(\"  log loss for train set is: {0:.4f}\".format(log_loss(y_train, y_pred, labels=model.classes_, eps=1e-15)))\n",
    "y_pred = sig_model.predict_proba(test_variation_onehotencoding)\n",
    "print(\"  log loss for test  set is: {0:.4f}\".format(log_loss(y_test, y_pred, labels=model.classes_, eps=1e-15)))"
   ]
  },
  {
   "cell_type": "markdown",
   "metadata": {},
   "source": [
    "ProportionalEncoding"
   ]
  },
  {
   "cell_type": "code",
   "execution_count": 58,
   "metadata": {},
   "outputs": [],
   "source": [
    "mydict_train=creating_dict(1,X_train,'Variation')"
   ]
  },
  {
   "cell_type": "code",
   "execution_count": 59,
   "metadata": {},
   "outputs": [],
   "source": [
    "train_variation_proportionalencoding=proportional_features(X_train,'Variation')\n",
    "test_variation_proportionalencoding=proportional_features(X_test,'Variation')"
   ]
  },
  {
   "cell_type": "code",
   "execution_count": 60,
   "metadata": {},
   "outputs": [],
   "source": [
    "#SGDClassifier model tuning using proportionalencoding for variation feature\n",
    "param_grid = {'alpha': [0.05,0.06,0.07,0.08,0.09,0.1,0.11,0.12,0.13,0.14]}\n",
    "acc_scorer = make_scorer(accuracy_score)\n",
    "clf = SGDClassifier(penalty='l2',loss='log',random_state=42)\n",
    "grid_search=GridSearchCV(clf, param_grid, scoring=acc_scorer,\n",
    "cv=5, return_train_score=True,verbose=0)\n",
    "grid_result = grid_search.fit(train_variation_proportionalencoding,y_train)\n",
    "alpha=grid_result.best_params_['alpha']"
   ]
  },
  {
   "cell_type": "code",
   "execution_count": 61,
   "metadata": {},
   "outputs": [
    {
     "name": "stdout",
     "output_type": "stream",
     "text": [
      "  log loss for train set is: 0.2295\n",
      "  log loss for test  set is: 1.8237\n"
     ]
    }
   ],
   "source": [
    "#SGDClassifier model best result using proportionalencoding for variation feature\n",
    "model = SGDClassifier(alpha=alpha, penalty='l2', loss='log', random_state=42)\n",
    "model.fit(train_variation_proportionalencoding, y_train)\n",
    "sig_model = CalibratedClassifierCV(model, method=\"sigmoid\")\n",
    "sig_model.fit(train_variation_proportionalencoding, y_train)\n",
    "\n",
    "y_pred = sig_model.predict_proba(train_variation_proportionalencoding)\n",
    "print(\"  log loss for train set is: {0:.4f}\".format(log_loss(y_train, y_pred, labels=model.classes_, eps=1e-15)))\n",
    "y_pred = sig_model.predict_proba(test_variation_proportionalencoding)\n",
    "print(\"  log loss for test  set is: {0:.4f}\".format(log_loss(y_test, y_pred, labels=model.classes_, eps=1e-15)))"
   ]
  },
  {
   "cell_type": "markdown",
   "metadata": {},
   "source": [
    "Concerning proportional encoding we are going to check how many features are common to train and test sets. "
   ]
  },
  {
   "cell_type": "code",
   "execution_count": 62,
   "metadata": {},
   "outputs": [],
   "source": [
    "train_variation_vectorizer = CountVectorizer()\n",
    "train_variation_feature_onehotCoding = train_variation_vectorizer.fit_transform(X_train['Variation'])\n",
    "train_variation_features= train_variation_vectorizer.get_feature_names()\n",
    "\n",
    "test_variation_vectorizer = CountVectorizer()\n",
    "test_variation_feature_onehotCoding = test_variation_vectorizer.fit_transform(X_test['Variation'])\n",
    "test_variation_features= test_variation_vectorizer.get_feature_names()"
   ]
  },
  {
   "cell_type": "code",
   "execution_count": 63,
   "metadata": {},
   "outputs": [
    {
     "name": "stdout",
     "output_type": "stream",
     "text": [
      "There are 6.01% of test features present in train features\n"
     ]
    }
   ],
   "source": [
    "ratio=len(set(test_variation_features).intersection(set(train_variation_features)))/len(set(test_variation_features))*100\n",
    "\n",
    "print(\"There are {0:.2f}% of test features present in train features\".format(ratio))"
   ]
  },
  {
   "cell_type": "markdown",
   "metadata": {},
   "source": [
    "As we have remarked for the 'Gene' variable, the higher the common features between training sets and test sets are, the better are the results for Proportional Encoding. Only 5.85% are common for both sets which implies not very good results(high overfitting)."
   ]
  },
  {
   "cell_type": "markdown",
   "metadata": {},
   "source": [
    "<span style=\"color:red\"><span style=\"font-size:15px\">Third Variable : Text</span></span>"
   ]
  },
  {
   "cell_type": "markdown",
   "metadata": {},
   "source": [
    "As variable __Text__ preprocessing might use a lot of memory, it cannot be preprocessed in the same way as the first 2 variables, __Gene__ and __Variation__."
   ]
  },
  {
   "cell_type": "markdown",
   "metadata": {},
   "source": [
    "OneHotEncoding"
   ]
  },
  {
   "cell_type": "code",
   "execution_count": 64,
   "metadata": {},
   "outputs": [
    {
     "name": "stdout",
     "output_type": "stream",
     "text": [
      "Number of unique words in train set : 79287\n"
     ]
    }
   ],
   "source": [
    "#in this case the vectorisation matches with text words. Only words that appear twice \n",
    "#will be considered\n",
    "text_vectorizer = CountVectorizer(min_df=2)\n",
    "\n",
    "train_text_onehotencoding = text_vectorizer.fit_transform(X_train['Text'])\n",
    "\n",
    "train_text_features= text_vectorizer.get_feature_names()\n",
    "\n",
    "print(\"Number of unique words in train set :\", len(train_text_features))"
   ]
  },
  {
   "cell_type": "markdown",
   "metadata": {},
   "source": [
    "As there are words which appear several times in the same text, the sparse matrix generated may have values much greater than 1. So when we will use the 3 variables together in OneHotEncoding method and as the other variables will have values between 0 and 1. So the columns generated for the variable \"Text\" will have to be [0,1] normalised for further use. So we will normalise training and test sets."
   ]
  },
  {
   "cell_type": "code",
   "execution_count": 65,
   "metadata": {},
   "outputs": [],
   "source": [
    "train_text_onehotencoding = normalize(train_text_onehotencoding, axis=0)\n",
    "\n",
    "test_text_onehotencoding = text_vectorizer.transform(X_test['Text'])\n",
    "\n",
    "test_text_onehotencoding = normalize(test_text_onehotencoding, axis=0)"
   ]
  },
  {
   "cell_type": "code",
   "execution_count": 66,
   "metadata": {},
   "outputs": [],
   "source": [
    "#SGDClassifier model tuning using onehotencoding for text feature\n",
    "param_grid = {'alpha': [0.0005,0.0006,0.007,0.0008,0.0009,0.001,0.0011,0.0012,0.0013,0.0014]}\n",
    "acc_scorer = make_scorer(accuracy_score)\n",
    "clf = SGDClassifier(penalty='l2',loss='log',random_state=42)\n",
    "grid_search=GridSearchCV(clf, param_grid, scoring=acc_scorer,\n",
    "cv=5, return_train_score=True,verbose=0)\n",
    "grid_result = grid_search.fit(train_text_onehotencoding,y_train)\n",
    "alpha=grid_result.best_params_['alpha']"
   ]
  },
  {
   "cell_type": "code",
   "execution_count": 67,
   "metadata": {},
   "outputs": [
    {
     "name": "stdout",
     "output_type": "stream",
     "text": [
      "  log loss for train set is: 0.7471\n",
      "  log loss for test  set is: 1.1002\n"
     ]
    }
   ],
   "source": [
    "#SGDClassifier model best result using onehotencoding for text feature\n",
    "model = SGDClassifier(alpha=alpha, penalty='l2', loss='log', random_state=42)\n",
    "model.fit(train_text_onehotencoding, y_train)\n",
    "sig_model = CalibratedClassifierCV(model, method=\"sigmoid\")\n",
    "sig_model.fit(train_text_onehotencoding, y_train)\n",
    "\n",
    "y_pred = sig_model.predict_proba(train_text_onehotencoding)\n",
    "print(\"  log loss for train set is: {0:.4f}\".format(log_loss(y_train, y_pred, labels=model.classes_, eps=1e-15)))\n",
    "y_pred = sig_model.predict_proba(test_text_onehotencoding)\n",
    "print(\"  log loss for test  set is: {0:.4f}\".format(log_loss(y_test, y_pred, labels=model.classes_, eps=1e-15)))"
   ]
  },
  {
   "cell_type": "markdown",
   "metadata": {},
   "source": [
    "ProportionalEncoding"
   ]
  },
  {
   "cell_type": "markdown",
   "metadata": {},
   "source": [
    "For this particular variable __Text__, the ProportionalEncoder will apply in a different way.<br> We create a function to generate a vocabulary for the whole training set, and a vocabulary for the texts linked to a determined Class."
   ]
  },
  {
   "cell_type": "code",
   "execution_count": 68,
   "metadata": {},
   "outputs": [],
   "source": [
    "def create_vocabulary(dataframe):\n",
    "    vocabulary = defaultdict(int)\n",
    "    for index, row in dataframe.iterrows():\n",
    "        for word in row['Text'].split():\n",
    "            vocabulary[word] +=1\n",
    "    return vocabulary"
   ]
  },
  {
   "cell_type": "code",
   "execution_count": 69,
   "metadata": {},
   "outputs": [],
   "source": [
    "vocab_list = []\n",
    "# vocab_list =[] contains 9 dictionaries and each one corresponds to a class\n",
    "for i in range(1,10):\n",
    "    vocabulary_text = X_train[X_train['Class']==i]\n",
    "    # build a word dict based on the words in that class\n",
    "    vocab_list.append(create_vocabulary(vocabulary_text))\n",
    "    # append it to vocab_list\n",
    "total_vocab = create_vocabulary(X_train)"
   ]
  },
  {
   "cell_type": "code",
   "execution_count": 70,
   "metadata": {},
   "outputs": [],
   "source": [
    "#we are going to get the proportion for each class for the sum of number of times that words \n",
    "#appear in the texts of a class divided by the sum of the number of times that words appear \n",
    "#in all the texts of training set\n",
    "#we use log and the exp to void overflow calculation problems\n",
    "def text_proportionalencoding(df):\n",
    "    text_feature_proportionalencoding = np.zeros((df.shape[0],9))\n",
    "    for i in range(0,9):\n",
    "        row_index = 0\n",
    "        for index, row in df.iterrows():\n",
    "            sum_prob = 0\n",
    "            for word in row['Text'].split():\n",
    "                sum_prob += math.log(((vocab_list[i].get(word,0)+1)/(total_vocab.get(word,0)+9)))\n",
    "            text_feature_proportionalencoding[row_index][i] = math.exp(sum_prob/len(row['Text'].split()))\n",
    "            row_index += 1\n",
    "    return text_feature_proportionalencoding"
   ]
  },
  {
   "cell_type": "code",
   "execution_count": 71,
   "metadata": {},
   "outputs": [],
   "source": [
    "train_text_proportionalencoding=text_proportionalencoding(X_train)\n",
    "test_text_proportionalencoding=text_proportionalencoding(X_test)"
   ]
  },
  {
   "cell_type": "code",
   "execution_count": 72,
   "metadata": {},
   "outputs": [],
   "source": [
    "test_text_proportionalencoding=(test_text_proportionalencoding.T/test_text_proportionalencoding.sum(axis=1)).T\n",
    "train_text_proportionalencoding=(train_text_proportionalencoding.T/train_text_proportionalencoding.sum(axis=1)).T"
   ]
  },
  {
   "cell_type": "code",
   "execution_count": 73,
   "metadata": {},
   "outputs": [],
   "source": [
    "#SGDClassifier model tuning using proportionalencoding for text feature\n",
    "param_grid = {'alpha': [0.000005,0.000006,0.000007,0.000008,0.000009,0.00001,0.000011,0.000012,0.000013,0.000014]}\n",
    "acc_scorer = make_scorer(accuracy_score)\n",
    "clf = SGDClassifier(penalty='l2',loss='log',random_state=42)\n",
    "grid_search=GridSearchCV(clf, param_grid, scoring=acc_scorer,\n",
    "cv=5, return_train_score=True,verbose=0)\n",
    "grid_result = grid_search.fit(train_text_proportionalencoding,y_train)\n",
    "alpha=grid_result.best_params_['alpha']"
   ]
  },
  {
   "cell_type": "code",
   "execution_count": 74,
   "metadata": {},
   "outputs": [
    {
     "name": "stdout",
     "output_type": "stream",
     "text": [
      "  log loss for train set is: 0.9489\n",
      "  log loss for test  set is: 1.1567\n"
     ]
    }
   ],
   "source": [
    "#SGDClassifier model best result using proportionalencoding for text feature\n",
    "model = SGDClassifier(alpha=alpha, penalty='l2', loss='log', random_state=42)\n",
    "model.fit(train_text_proportionalencoding, y_train)\n",
    "sig_model = CalibratedClassifierCV(model, method=\"sigmoid\")\n",
    "sig_model.fit(train_text_proportionalencoding, y_train)\n",
    "\n",
    "y_pred = sig_model.predict_proba(train_text_proportionalencoding)\n",
    "print(\"  log loss for train set is: {0:.4f}\".format(log_loss(y_train, y_pred, labels=model.classes_, eps=1e-15)))\n",
    "y_pred = sig_model.predict_proba(test_text_proportionalencoding)\n",
    "print(\"  log loss for test  set is: {0:.4f}\".format(log_loss(y_test, y_pred, labels=model.classes_, eps=1e-15)))"
   ]
  },
  {
   "cell_type": "markdown",
   "metadata": {},
   "source": [
    "Concerning proportional encoding we are going to check how many features are common to train and test sets. "
   ]
  },
  {
   "cell_type": "code",
   "execution_count": 75,
   "metadata": {},
   "outputs": [],
   "source": [
    "train_text_vectorizer = CountVectorizer(min_df=2)\n",
    "train_text_features_onehotCoding = train_text_vectorizer.fit_transform(X_train['Text'])\n",
    "train_text_features= train_text_vectorizer.get_feature_names()\n",
    "\n",
    "test_text_vectorizer = CountVectorizer(min_df=2)\n",
    "test_text_features_onehotCoding = test_text_vectorizer.fit_transform(X_test['Text'])\n",
    "test_text_features= test_text_vectorizer.get_feature_names()"
   ]
  },
  {
   "cell_type": "code",
   "execution_count": 76,
   "metadata": {},
   "outputs": [
    {
     "name": "stdout",
     "output_type": "stream",
     "text": [
      "There are 94.12% of test features present in train features\n"
     ]
    }
   ],
   "source": [
    "ratio=len(set(test_text_features).intersection(set(train_text_features)))/len(set(test_text_features))*100\n",
    "\n",
    "print(\"There are {0:.2f}% of test features present in train features\".format(ratio))"
   ]
  },
  {
   "cell_type": "markdown",
   "metadata": {},
   "source": [
    "The 3 variables are meaningful to predict __Class__, but __Gene__ and __Text__ give a better prediction result than __Variation__.  "
   ]
  },
  {
   "cell_type": "markdown",
   "metadata": {},
   "source": [
    "<span style=\"color:red\"><span style=\"font-size:15px\">Combining variables : Gene, Variation and Text</span></span>"
   ]
  },
  {
   "cell_type": "markdown",
   "metadata": {},
   "source": [
    "We are going to combine the 3 variables taking into account that we do not have dataframes anymore. We are going to use special functions (hstack) to merge sparse matrices and arrays. This stack operation changes the type of sparse matrix, array and we need to compress the sparse matrix result."
   ]
  },
  {
   "cell_type": "code",
   "execution_count": 77,
   "metadata": {},
   "outputs": [
    {
     "name": "stdout",
     "output_type": "stream",
     "text": [
      "Shape of Gene trainset      (2652, 245)\n",
      "Shape of Variation trainset (2652, 2429)\n",
      "Shape of Text trainset      (2652, 79287)\n"
     ]
    }
   ],
   "source": [
    "print(\"Shape of Gene trainset     \",train_gene_onehotencoding.shape)\n",
    "print(\"Shape of Variation trainset\",train_variation_onehotencoding.shape)\n",
    "print(\"Shape of Text trainset     \",train_text_onehotencoding.shape)"
   ]
  },
  {
   "cell_type": "code",
   "execution_count": 78,
   "metadata": {},
   "outputs": [
    {
     "name": "stdout",
     "output_type": "stream",
     "text": [
      "Shape of Gene testset      (664, 245)\n",
      "Shape of Variation testset (664, 2429)\n",
      "Shape of Text testset      (664, 79287)\n"
     ]
    }
   ],
   "source": [
    "print(\"Shape of Gene testset     \",test_gene_onehotencoding.shape)\n",
    "print(\"Shape of Variation testset\",test_variation_onehotencoding.shape)\n",
    "print(\"Shape of Text testset     \",test_text_onehotencoding.shape)"
   ]
  },
  {
   "cell_type": "code",
   "execution_count": 79,
   "metadata": {},
   "outputs": [],
   "source": [
    "train_var_onehotencoding = hstack((train_gene_onehotencoding,train_variation_onehotencoding))\n",
    "X_train_onehotencoding=hstack((train_var_onehotencoding,train_text_onehotencoding)).tocsr()"
   ]
  },
  {
   "cell_type": "code",
   "execution_count": 80,
   "metadata": {},
   "outputs": [],
   "source": [
    "test_var_onehotencoding = hstack((test_gene_onehotencoding,test_variation_onehotencoding))\n",
    "X_test_onehotencoding=hstack((test_var_onehotencoding,test_text_onehotencoding)).tocsr()"
   ]
  },
  {
   "cell_type": "code",
   "execution_count": 81,
   "metadata": {},
   "outputs": [
    {
     "name": "stdout",
     "output_type": "stream",
     "text": [
      "OneHotEncoding\n",
      "Training shape (2652, 81961)\n",
      "Test Shape     (664, 81961)\n"
     ]
    }
   ],
   "source": [
    "print(\"OneHotEncoding\")\n",
    "print(\"Training shape\",X_train_onehotencoding.shape)\n",
    "print(\"Test Shape    \",X_test_onehotencoding.shape)"
   ]
  },
  {
   "cell_type": "code",
   "execution_count": 82,
   "metadata": {},
   "outputs": [],
   "source": [
    "train_var_proportionalencoding=np.hstack((train_gene_proportionalencoding,train_variation_proportionalencoding))\n",
    "X_train_proportionalencoding=np.hstack((train_var_proportionalencoding,train_text_proportionalencoding))"
   ]
  },
  {
   "cell_type": "code",
   "execution_count": 83,
   "metadata": {},
   "outputs": [],
   "source": [
    "test_var_proportionalencoding=np.hstack((test_gene_proportionalencoding,test_variation_proportionalencoding))\n",
    "X_test_proportionalencoding=np.hstack((test_var_proportionalencoding,test_text_proportionalencoding))"
   ]
  },
  {
   "cell_type": "code",
   "execution_count": 84,
   "metadata": {},
   "outputs": [
    {
     "name": "stdout",
     "output_type": "stream",
     "text": [
      "ProportionalEncoding\n",
      "Training shape (2652, 27)\n",
      "Test Shape     (664, 27)\n"
     ]
    }
   ],
   "source": [
    "print(\"ProportionalEncoding\")\n",
    "print(\"Training shape\",X_train_proportionalencoding.shape)\n",
    "print(\"Test Shape    \",X_test_proportionalencoding.shape)"
   ]
  },
  {
   "cell_type": "markdown",
   "metadata": {},
   "source": [
    "Once we have combine all the variables we are going to test several machine learning models"
   ]
  },
  {
   "cell_type": "markdown",
   "metadata": {},
   "source": [
    "<span style=\"color:red\"><span style=\"font-size:25px\">SGDClassifier basic</span></span>"
   ]
  },
  {
   "cell_type": "markdown",
   "metadata": {},
   "source": [
    "<span style=\"color:blue\"><span style=\"font-size:20px\">OneHotEncoding</span></span>"
   ]
  },
  {
   "cell_type": "code",
   "execution_count": 85,
   "metadata": {},
   "outputs": [],
   "source": [
    "#SGDClassifier model tuning using onehotencoding for all the features\n",
    "param_grid = {'alpha': [0.0005,0.0006,0.007,0.0008,0.0009,0.001,0.0011,0.0012,0.0013,0.0014]}\n",
    "acc_scorer = make_scorer(accuracy_score)\n",
    "clf = SGDClassifier(penalty='l2',loss='log',random_state=42)\n",
    "grid_search=GridSearchCV(clf, param_grid, scoring=acc_scorer,\n",
    "cv=5, return_train_score=True,verbose=0)\n",
    "grid_result = grid_search.fit(X_train_onehotencoding,y_train)\n",
    "alpha=grid_result.best_params_['alpha']"
   ]
  },
  {
   "cell_type": "code",
   "execution_count": 86,
   "metadata": {},
   "outputs": [
    {
     "name": "stdout",
     "output_type": "stream",
     "text": [
      "  log loss for train set is: 0.6084\n",
      "  log loss for test  set is: 1.0428\n"
     ]
    }
   ],
   "source": [
    "#SGDClassifier model best result using onehotencoding for all the feature\n",
    "model = SGDClassifier(alpha=alpha, penalty='l2', loss='log', random_state=42)\n",
    "model.fit(X_train_onehotencoding, y_train)\n",
    "sig_model = CalibratedClassifierCV(model, method=\"sigmoid\")\n",
    "sig_model.fit(X_train_onehotencoding, y_train)\n",
    "\n",
    "y_pred = sig_model.predict_proba(X_train_onehotencoding)\n",
    "print(\"  log loss for train set is: {0:.4f}\".format(log_loss(y_train, y_pred, labels=model.classes_, eps=1e-15)))\n",
    "y_pred = sig_model.predict_proba(X_test_onehotencoding)\n",
    "print(\"  log loss for test  set is: {0:.4f}\".format(log_loss(y_test, y_pred, labels=model.classes_, eps=1e-15)))"
   ]
  },
  {
   "cell_type": "markdown",
   "metadata": {},
   "source": [
    "<span style='font-size:20px'>Accuracy model will be now calculated</span>"
   ]
  },
  {
   "cell_type": "code",
   "execution_count": 87,
   "metadata": {},
   "outputs": [],
   "source": [
    "#predicted classes are given in the range[0,8], 1 will be added to match with our Class numbers\n",
    "y_prediction =np.argmax(y_pred, axis=1)\n",
    "y_prediction=y_prediction+1"
   ]
  },
  {
   "cell_type": "code",
   "execution_count": 88,
   "metadata": {},
   "outputs": [],
   "source": [
    "cm=confusion_matrix(y_test,y_prediction)"
   ]
  },
  {
   "cell_type": "code",
   "execution_count": 89,
   "metadata": {},
   "outputs": [
    {
     "data": {
      "image/png": "[encoded data removed]",
      "text/plain": [
       "<Figure size 1296x576 with 2 Axes>"
      ]
     },
     "metadata": {
      "needs_background": "light"
     },
     "output_type": "display_data"
    }
   ],
   "source": [
    "labels=[1,2,3,4,5,6,7,8,9]\n",
    "plt.figure(figsize=(18,8))\n",
    "sns.heatmap(cm,annot=True,cmap=\"YlGnBu\",xticklabels=labels,yticklabels=labels,fmt='g')\n",
    "plt.xlabel('True Class')\n",
    "plt.ylabel('Predicted Class')\n",
    "plt.show()"
   ]
  },
  {
   "cell_type": "code",
   "execution_count": 90,
   "metadata": {},
   "outputs": [
    {
     "name": "stdout",
     "output_type": "stream",
     "text": [
      "In SGDClassifier (onehotencoding) we obtain 69.13% of accuracy\n"
     ]
    }
   ],
   "source": [
    "acc=(np.trace(cm)/np.sum(cm)*100)\n",
    "print(\"In SGDClassifier (onehotencoding) we obtain {0:.2f}% of accuracy\".format(round(acc,2)))"
   ]
  },
  {
   "cell_type": "markdown",
   "metadata": {},
   "source": [
    "<span style=\"color:blue\"><span style=\"font-size:20px\">ProportionalEncoding</span></span>"
   ]
  },
  {
   "cell_type": "code",
   "execution_count": 91,
   "metadata": {},
   "outputs": [],
   "source": [
    "#SGDClassifier model tuning using proportionalencoding for all the features\n",
    "param_grid = {'alpha': [0.001,0.0011,0.0012,0.0013,0.0014]}\n",
    "acc_scorer = make_scorer(accuracy_score)\n",
    "clf = SGDClassifier(penalty='l2',loss='log',random_state=42)\n",
    "grid_search=GridSearchCV(clf, param_grid, scoring=acc_scorer,\n",
    "cv=5, return_train_score=True,verbose=0)\n",
    "grid_result = grid_search.fit(X_train_proportionalencoding,y_train)\n",
    "alpha=grid_result.best_params_['alpha']"
   ]
  },
  {
   "cell_type": "code",
   "execution_count": 92,
   "metadata": {},
   "outputs": [
    {
     "name": "stdout",
     "output_type": "stream",
     "text": [
      "  log loss for train set is: 0.5860\n",
      "  log loss for test  set is: 1.1201\n"
     ]
    }
   ],
   "source": [
    "#SGDClassifier model best result using proportionalencoding for all the features\n",
    "model = SGDClassifier(alpha=alpha, penalty='l2', loss='log', random_state=42)\n",
    "model.fit(X_train_proportionalencoding, y_train)\n",
    "sig_model = CalibratedClassifierCV(model, method=\"sigmoid\")\n",
    "sig_model.fit(X_train_proportionalencoding, y_train)\n",
    "\n",
    "y_pred = sig_model.predict_proba(X_train_proportionalencoding)\n",
    "print(\"  log loss for train set is: {0:.4f}\".format(log_loss(y_train, y_pred, labels=model.classes_, eps=1e-15)))\n",
    "y_pred = sig_model.predict_proba(X_test_proportionalencoding)\n",
    "print(\"  log loss for test  set is: {0:.4f}\".format(log_loss(y_test, y_pred, labels=model.classes_, eps=1e-15)))"
   ]
  },
  {
   "cell_type": "markdown",
   "metadata": {},
   "source": [
    "<span style='font-size:20px'>Model accuracy will be now calculated</span>"
   ]
  },
  {
   "cell_type": "code",
   "execution_count": 93,
   "metadata": {},
   "outputs": [],
   "source": [
    "y_prediction =np.argmax(y_pred, axis=1)\n",
    "y_prediction=y_prediction+1"
   ]
  },
  {
   "cell_type": "code",
   "execution_count": 94,
   "metadata": {},
   "outputs": [],
   "source": [
    "cm=confusion_matrix(y_test,y_prediction)"
   ]
  },
  {
   "cell_type": "code",
   "execution_count": 95,
   "metadata": {},
   "outputs": [
    {
     "data": {
      "image/png": "[encoded data removed]",
      "text/plain": [
       "<Figure size 1296x576 with 2 Axes>"
      ]
     },
     "metadata": {
      "needs_background": "light"
     },
     "output_type": "display_data"
    }
   ],
   "source": [
    "labels=[1,2,3,4,5,6,7,8,9]\n",
    "plt.figure(figsize=(18,8))\n",
    "sns.heatmap(cm,annot=True,cmap=\"YlGnBu\",xticklabels=labels,yticklabels=labels,fmt='g')\n",
    "plt.xlabel('True Class')\n",
    "plt.ylabel('Predicted Class')\n",
    "plt.show()"
   ]
  },
  {
   "cell_type": "code",
   "execution_count": 96,
   "metadata": {},
   "outputs": [
    {
     "name": "stdout",
     "output_type": "stream",
     "text": [
      "In SGDClassifier (proportionalencoding) we obtain 60.39% of accuracy\n"
     ]
    }
   ],
   "source": [
    "acc=(np.trace(cm)/np.sum(cm)*100)\n",
    "print(\"In SGDClassifier (proportionalencoding) we obtain {0:.2f}% of accuracy\".format(round(acc,2)))"
   ]
  },
  {
   "cell_type": "markdown",
   "metadata": {},
   "source": [
    "<span style=\"color:red\"><span style=\"font-size:25px\">SGDClassifier balanced weights</span></span>"
   ]
  },
  {
   "cell_type": "markdown",
   "metadata": {},
   "source": [
    "<span style=\"color:blue\"><span style=\"font-size:20px\">OneHotEncoding</span></span>"
   ]
  },
  {
   "cell_type": "code",
   "execution_count": 97,
   "metadata": {},
   "outputs": [
    {
     "data": {
      "text/plain": [
       "0.0013"
      ]
     },
     "execution_count": 97,
     "metadata": {},
     "output_type": "execute_result"
    }
   ],
   "source": [
    "#balanced SGDClassifier model tuning using onehotencoding for all the features\n",
    "param_grid = {'alpha': [0.0005,0.0006,0.007,0.0008,0.0009,0.001,0.0011,0.0012,0.0013,0.0014]}\n",
    "acc_scorer = make_scorer(accuracy_score)\n",
    "clf = SGDClassifier(penalty='l2',loss='log',random_state=42,class_weight='balanced')\n",
    "grid_search=GridSearchCV(clf, param_grid, scoring=acc_scorer,\n",
    "cv=5, return_train_score=True,verbose=0)\n",
    "grid_result = grid_search.fit(X_train_onehotencoding,y_train)\n",
    "alpha=grid_result.best_params_['alpha']"
   ]
  },
  {
   "cell_type": "code",
   "execution_count": 98,
   "metadata": {},
   "outputs": [
    {
     "name": "stdout",
     "output_type": "stream",
     "text": [
      "  log loss for train set is: 0.6164\n",
      "  log loss for test  set is: 1.0334\n"
     ]
    }
   ],
   "source": [
    "#balanced SGDClassifier model best result using onehotencoding for all the features\n",
    "model = SGDClassifier(alpha=alpha, penalty='l2', loss='log', random_state=42,class_weight='balanced')\n",
    "model.fit(X_train_onehotencoding, y_train)\n",
    "sig_model = CalibratedClassifierCV(model, method=\"sigmoid\")\n",
    "sig_model.fit(X_train_onehotencoding, y_train)\n",
    "\n",
    "y_pred = sig_model.predict_proba(X_train_onehotencoding)\n",
    "print(\"  log loss for train set is: {0:.4f}\".format(log_loss(y_train, y_pred, labels=model.classes_, eps=1e-15)))\n",
    "y_pred = sig_model.predict_proba(X_test_onehotencoding)\n",
    "print(\"  log loss for test  set is: {0:.4f}\".format(log_loss(y_test, y_pred, labels=model.classes_, eps=1e-15)))"
   ]
  },
  {
   "cell_type": "markdown",
   "metadata": {},
   "source": [
    "<span style='font-size:20px'>Accuracy model will be now calculated</span>"
   ]
  },
  {
   "cell_type": "code",
   "execution_count": 99,
   "metadata": {},
   "outputs": [],
   "source": [
    "y_prediction =np.argmax(y_pred, axis=1)\n",
    "y_prediction=y_prediction+1"
   ]
  },
  {
   "cell_type": "code",
   "execution_count": 100,
   "metadata": {},
   "outputs": [],
   "source": [
    "cm=confusion_matrix(y_test,y_prediction)"
   ]
  },
  {
   "cell_type": "code",
   "execution_count": 101,
   "metadata": {},
   "outputs": [
    {
     "data": {
      "image/png": "[encoded data removed]",
      "text/plain": [
       "<Figure size 1296x576 with 2 Axes>"
      ]
     },
     "metadata": {
      "needs_background": "light"
     },
     "output_type": "display_data"
    }
   ],
   "source": [
    "labels=[1,2,3,4,5,6,7,8,9]\n",
    "plt.figure(figsize=(18,8))\n",
    "sns.heatmap(cm,annot=True,cmap=\"YlGnBu\",xticklabels=labels,yticklabels=labels,fmt='g')\n",
    "plt.xlabel('True Class')\n",
    "plt.ylabel('Predicted Class')\n",
    "plt.show()"
   ]
  },
  {
   "cell_type": "code",
   "execution_count": 102,
   "metadata": {},
   "outputs": [
    {
     "name": "stdout",
     "output_type": "stream",
     "text": [
      "For balanced SGDClassifier (onehotencoding) we obtain 68.22% of accuracy\n"
     ]
    }
   ],
   "source": [
    "acc=(np.trace(cm)/np.sum(cm)*100)\n",
    "print(\"For balanced SGDClassifier (onehotencoding) we obtain {0:.2f}% of accuracy\".format(round(acc,2)))"
   ]
  },
  {
   "cell_type": "markdown",
   "metadata": {},
   "source": [
    "<span style=\"color:blue\"><span style=\"font-size:20px\">ProportionalEncoding</span></span>"
   ]
  },
  {
   "cell_type": "code",
   "execution_count": 103,
   "metadata": {},
   "outputs": [],
   "source": [
    "#balanced SGDClassifier model tuning using onehotencoding for all the features\n",
    "param_grid = {'alpha': [0.001,0.0011,0.0012,0.0013,0.0014]}\n",
    "acc_scorer = make_scorer(accuracy_score)\n",
    "clf = SGDClassifier(penalty='l2',loss='log',random_state=42,class_weight='balanced')\n",
    "grid_search=GridSearchCV(clf, param_grid, scoring=acc_scorer,\n",
    "cv=5, return_train_score=True,verbose=0)\n",
    "grid_result = grid_search.fit(X_train_proportionalencoding,y_train)\n",
    "alpha=grid_result.best_params_['alpha']"
   ]
  },
  {
   "cell_type": "code",
   "execution_count": 104,
   "metadata": {},
   "outputs": [
    {
     "name": "stdout",
     "output_type": "stream",
     "text": [
      "  log loss for train set is: 0.5717\n",
      "  log loss for test  set is: 1.1049\n"
     ]
    }
   ],
   "source": [
    "#balanced SGDClassifier model best result using proportionalencoding for all the features\n",
    "model = SGDClassifier(alpha=alpha, penalty='l2', loss='log', random_state=42,class_weight='balanced')\n",
    "model.fit(X_train_proportionalencoding, y_train)\n",
    "sig_model = CalibratedClassifierCV(model, method=\"sigmoid\")\n",
    "sig_model.fit(X_train_proportionalencoding, y_train)\n",
    "\n",
    "y_pred = sig_model.predict_proba(X_train_proportionalencoding)\n",
    "print(\"  log loss for train set is: {0:.4f}\".format(log_loss(y_train, y_pred, labels=model.classes_, eps=1e-15)))\n",
    "y_pred = sig_model.predict_proba(X_test_proportionalencoding)\n",
    "print(\"  log loss for test  set is: {0:.4f}\".format(log_loss(y_test, y_pred, labels=model.classes_, eps=1e-15)))"
   ]
  },
  {
   "cell_type": "markdown",
   "metadata": {},
   "source": [
    "<span style='font-size:20px'>Accuracy model will be now calculated</span>"
   ]
  },
  {
   "cell_type": "code",
   "execution_count": 105,
   "metadata": {},
   "outputs": [],
   "source": [
    "y_prediction =np.argmax(y_pred, axis=1)\n",
    "y_prediction=y_prediction+1"
   ]
  },
  {
   "cell_type": "code",
   "execution_count": 106,
   "metadata": {},
   "outputs": [],
   "source": [
    "cm=confusion_matrix(y_test,y_prediction)"
   ]
  },
  {
   "cell_type": "code",
   "execution_count": 107,
   "metadata": {},
   "outputs": [
    {
     "data": {
      "image/png": "[encoded data removed]",
      "text/plain": [
       "<Figure size 1296x576 with 2 Axes>"
      ]
     },
     "metadata": {
      "needs_background": "light"
     },
     "output_type": "display_data"
    }
   ],
   "source": [
    "labels=[1,2,3,4,5,6,7,8,9]\n",
    "plt.figure(figsize=(18,8))\n",
    "sns.heatmap(cm,annot=True,cmap=\"YlGnBu\",xticklabels=labels,yticklabels=labels,fmt='g')\n",
    "plt.xlabel('True Class')\n",
    "plt.ylabel('Predicted Class')\n",
    "plt.show()"
   ]
  },
  {
   "cell_type": "code",
   "execution_count": 108,
   "metadata": {},
   "outputs": [
    {
     "name": "stdout",
     "output_type": "stream",
     "text": [
      "For balanced SGDClassifier (ProportionalEncoding) we obtain 60.69% of accuracy\n"
     ]
    }
   ],
   "source": [
    "acc=(np.trace(cm)/np.sum(cm)*100)\n",
    "print(\"For balanced SGDClassifier (ProportionalEncoding) we obtain {0:.2f}% of accuracy\".format(round(acc,2)))"
   ]
  },
  {
   "cell_type": "markdown",
   "metadata": {},
   "source": [
    "For next models we will tune directly complete model and choose the best parameters instead of using GridsearchCV. "
   ]
  },
  {
   "cell_type": "markdown",
   "metadata": {},
   "source": [
    "<span style=\"color:red\"><span style=\"font-size:25px\">KNN Neighbour Classifier</span></span>"
   ]
  },
  {
   "cell_type": "markdown",
   "metadata": {},
   "source": [
    "<span style=\"color:blue\"><span style=\"font-size:20px\">OneHotEncoding</span></span>"
   ]
  },
  {
   "cell_type": "code",
   "execution_count": 109,
   "metadata": {},
   "outputs": [
    {
     "name": "stdout",
     "output_type": "stream",
     "text": [
      "Neighbour's number value =       1  log loss is: 1.317613127043413\n",
      "Neighbour's number value =       2  log loss is: 1.2686036559197338\n",
      "Neighbour's number value =       3  log loss is: 1.2503652776453584\n",
      "Neighbour's number value =       4  log loss is: 1.2283279865585466\n",
      "Neighbour's number value =       5  log loss is: 1.2297875620959307\n",
      "Neighbour's number value =       6  log loss is: 1.2501937915848202\n"
     ]
    }
   ],
   "source": [
    "#KNNneighbours Classifier tuning with onehotencoding\n",
    "neighbour = [1,2,3,4,5,6]\n",
    "test_log_error_array=[]\n",
    "for i in neighbour:\n",
    "    model = KNeighborsClassifier(n_neighbors=i)\n",
    "    model.fit(X_train_onehotencoding, y_train)\n",
    "    sig_model = CalibratedClassifierCV(model, method=\"sigmoid\")\n",
    "    sig_model.fit(X_train_onehotencoding, y_train)\n",
    "    y_pred = sig_model.predict_proba(X_test_onehotencoding)\n",
    "    test_log_error_array.append(log_loss(y_test, y_pred, labels=model.classes_, eps=1e-15))\n",
    "    print(\"Neighbour's number value = {:>7}  log loss is: {:>12}\".format(i,log_loss(y_test, y_pred, labels=model.classes_, eps=1e-15)))"
   ]
  },
  {
   "cell_type": "code",
   "execution_count": 110,
   "metadata": {},
   "outputs": [
    {
     "name": "stdout",
     "output_type": "stream",
     "text": [
      "Neighbour's number values = 4 Train log loss is: 0.9768706743955797\n",
      "Neighbour's number values = 4 Test  log loss is: 1.2283279865585466\n"
     ]
    }
   ],
   "source": [
    "#KNNneighbours Classifier best result using onehotencoding\n",
    "best_neighbour = np.argmin(test_log_error_array)\n",
    "model = KNeighborsClassifier(n_neighbors=neighbour[best_neighbour])\n",
    "model.fit(X_train_onehotencoding, y_train)\n",
    "sig_model = CalibratedClassifierCV(model, method=\"sigmoid\")\n",
    "sig_model.fit(X_train_onehotencoding, y_train)\n",
    "\n",
    "y_pred = sig_model.predict_proba(X_train_onehotencoding)\n",
    "print(\"Neighbour's number values =\", neighbour[best_neighbour], \"Train log loss is:\",log_loss(y_train, y_pred, labels=model.classes_, eps=1e-15))\n",
    "\n",
    "y_pred = sig_model.predict_proba(X_test_onehotencoding)\n",
    "print(\"Neighbour's number values =\", neighbour[best_neighbour], \"Test  log loss is:\",log_loss(y_test, y_pred, labels=model.classes_, eps=1e-15))"
   ]
  },
  {
   "cell_type": "markdown",
   "metadata": {},
   "source": [
    "<span style='font-size:20px'>Accuracy model will be now calculated</span>"
   ]
  },
  {
   "cell_type": "code",
   "execution_count": 111,
   "metadata": {},
   "outputs": [],
   "source": [
    "y_prediction =np.argmax(y_pred, axis=1)\n",
    "y_prediction=y_prediction+1"
   ]
  },
  {
   "cell_type": "code",
   "execution_count": 112,
   "metadata": {},
   "outputs": [],
   "source": [
    "cm=confusion_matrix(y_test,y_prediction)"
   ]
  },
  {
   "cell_type": "code",
   "execution_count": 113,
   "metadata": {},
   "outputs": [
    {
     "data": {
      "image/png": "[encoded data removed]",
      "text/plain": [
       "<Figure size 1296x576 with 2 Axes>"
      ]
     },
     "metadata": {
      "needs_background": "light"
     },
     "output_type": "display_data"
    }
   ],
   "source": [
    "labels=[1,2,3,4,5,6,7,8,9]\n",
    "plt.figure(figsize=(18,8))\n",
    "sns.heatmap(cm,annot=True,cmap=\"YlGnBu\",xticklabels=labels,yticklabels=labels,fmt='g')\n",
    "plt.xlabel('True Class')\n",
    "plt.ylabel('Predicted Class')\n",
    "plt.show()"
   ]
  },
  {
   "cell_type": "code",
   "execution_count": 114,
   "metadata": {},
   "outputs": [
    {
     "name": "stdout",
     "output_type": "stream",
     "text": [
      "For KNN Neighbour Classifier (OneHotEncoding) we obtain 61.60% of accuracy\n"
     ]
    }
   ],
   "source": [
    "acc=(np.trace(cm)/np.sum(cm)*100)\n",
    "print(\"For KNN Neighbour Classifier (OneHotEncoding) we obtain {0:.2f}% of accuracy\".format(round(acc,2)))"
   ]
  },
  {
   "cell_type": "markdown",
   "metadata": {},
   "source": [
    "<span style=\"color:blue\"><span style=\"font-size:20px\">ProportionalEncoding</span></span>"
   ]
  },
  {
   "cell_type": "code",
   "execution_count": 115,
   "metadata": {},
   "outputs": [],
   "source": [
    "neighbour = [7,8,9,10,11,12,13,14,15,16]"
   ]
  },
  {
   "cell_type": "code",
   "execution_count": 116,
   "metadata": {},
   "outputs": [
    {
     "name": "stdout",
     "output_type": "stream",
     "text": [
      "Neighbour's number value =       7  log loss is: 1.0871780517972558\n",
      "Neighbour's number value =       8  log loss is: 1.0747263675763796\n",
      "Neighbour's number value =       9  log loss is: 1.0740651401003847\n",
      "Neighbour's number value =      10  log loss is: 1.057920790167136\n",
      "Neighbour's number value =      11  log loss is: 1.050984713087343\n",
      "Neighbour's number value =      12  log loss is: 1.0419602914514612\n",
      "Neighbour's number value =      13  log loss is: 1.0414239093038218\n",
      "Neighbour's number value =      14  log loss is: 1.045743375825042\n",
      "Neighbour's number value =      15  log loss is: 1.053630595160996\n",
      "Neighbour's number value =      16  log loss is: 1.052714524466906\n"
     ]
    }
   ],
   "source": [
    "#KNNneighbours Classifier tuning with proportionalencoding\n",
    "test_log_error_array=[]\n",
    "for i in neighbour:\n",
    "    model = KNeighborsClassifier(n_neighbors=i)\n",
    "    model.fit(X_train_proportionalencoding, y_train)\n",
    "    sig_model = CalibratedClassifierCV(model, method=\"sigmoid\")\n",
    "    sig_model.fit(X_train_proportionalencoding, y_train)\n",
    "    y_pred = sig_model.predict_proba(X_test_proportionalencoding)\n",
    "    test_log_error_array.append(log_loss(y_test, y_pred, labels=model.classes_, eps=1e-15))\n",
    "    print(\"Neighbour's number value = {:>7}  log loss is: {:>12}\".format(i,log_loss(y_test, y_pred, labels=model.classes_, eps=1e-15)))"
   ]
  },
  {
   "cell_type": "code",
   "execution_count": 117,
   "metadata": {},
   "outputs": [
    {
     "name": "stdout",
     "output_type": "stream",
     "text": [
      "Neighbour's number values = 13 Train log loss is: 0.3001630331731484\n",
      "Neighbour's number values = 13 Test  log loss is: 1.0414239093038218\n"
     ]
    }
   ],
   "source": [
    "#KNN Neighbour Classifier best result using proportionalencoding\n",
    "best_neighbour = np.argmin(test_log_error_array)\n",
    "model = KNeighborsClassifier(n_neighbors=neighbour[best_neighbour])\n",
    "model.fit(X_train_proportionalencoding, y_train)\n",
    "sig_model = CalibratedClassifierCV(model, method=\"sigmoid\")\n",
    "sig_model.fit(X_train_proportionalencoding, y_train)\n",
    "\n",
    "y_pred = sig_model.predict_proba(X_train_proportionalencoding)\n",
    "print(\"Neighbour's number values =\", neighbour[best_neighbour], \"Train log loss is:\",log_loss(y_train, y_pred, labels=model.classes_, eps=1e-15))\n",
    "\n",
    "y_pred = sig_model.predict_proba(X_test_proportionalencoding)\n",
    "print(\"Neighbour's number values =\", neighbour[best_neighbour], \"Test  log loss is:\",log_loss(y_test, y_pred, labels=model.classes_, eps=1e-15))"
   ]
  },
  {
   "cell_type": "code",
   "execution_count": 118,
   "metadata": {},
   "outputs": [],
   "source": [
    "y_prediction =np.argmax(y_pred, axis=1)\n",
    "y_prediction=y_prediction+1"
   ]
  },
  {
   "cell_type": "code",
   "execution_count": 119,
   "metadata": {},
   "outputs": [],
   "source": [
    "cm=confusion_matrix(y_test,y_prediction)"
   ]
  },
  {
   "cell_type": "code",
   "execution_count": 120,
   "metadata": {},
   "outputs": [
    {
     "data": {
      "image/png": "[encoded data removed]",
      "text/plain": [
       "<Figure size 1296x576 with 2 Axes>"
      ]
     },
     "metadata": {
      "needs_background": "light"
     },
     "output_type": "display_data"
    }
   ],
   "source": [
    "labels=[1,2,3,4,5,6,7,8,9]\n",
    "plt.figure(figsize=(18,8))\n",
    "sns.heatmap(cm,annot=True,cmap=\"YlGnBu\",xticklabels=labels,yticklabels=labels,fmt='g')\n",
    "plt.xlabel('True Class')\n",
    "plt.ylabel('Predicted Class')\n",
    "plt.show()"
   ]
  },
  {
   "cell_type": "code",
   "execution_count": 121,
   "metadata": {},
   "outputs": [
    {
     "name": "stdout",
     "output_type": "stream",
     "text": [
      "For KNN Neighbour Classifier (ProportionalEncoding) we obtain 65.06% of accuracy\n"
     ]
    }
   ],
   "source": [
    "acc=(np.trace(cm)/np.sum(cm)*100)\n",
    "print(\"For KNN Neighbour Classifier (ProportionalEncoding) we obtain {0:.2f}% of accuracy\".format(round(acc,2)))"
   ]
  },
  {
   "cell_type": "markdown",
   "metadata": {},
   "source": [
    "<span style=\"color:red\"><span style=\"font-size:25px\">Naive Bayes</span></span>"
   ]
  },
  {
   "cell_type": "markdown",
   "metadata": {},
   "source": [
    "<span style=\"color:blue\"><span style=\"font-size:20px\">OneHotEncoding</span></span>"
   ]
  },
  {
   "cell_type": "code",
   "execution_count": 122,
   "metadata": {},
   "outputs": [
    {
     "name": "stdout",
     "output_type": "stream",
     "text": [
      "Alpha value = 0.0004  log loss is: 1.2037246722859156\n",
      "Alpha value = 0.0005  log loss is: 1.203336385253626\n",
      "Alpha value = 0.0006  log loss is: 1.2026883344816566\n",
      "Alpha value = 0.0007  log loss is: 1.2025714587001541\n",
      "Alpha value = 0.0008  log loss is: 1.2039291249597082\n"
     ]
    }
   ],
   "source": [
    "#Naive Bayes Classifier tuning with onehotencoding with all features\n",
    "alpha = [0.0004,0.0005,0.0006,0.0007,0.0008]\n",
    "test_log_error_array=[]\n",
    "for i in alpha:\n",
    "    model = MultinomialNB(alpha=i)\n",
    "    model.fit(X_train_onehotencoding, y_train)\n",
    "    sig_model = CalibratedClassifierCV(model, method=\"sigmoid\")\n",
    "    sig_model.fit(X_train_onehotencoding, y_train)\n",
    "    y_pred = sig_model.predict_proba(X_test_onehotencoding)\n",
    "    test_log_error_array.append(log_loss(y_test, y_pred, labels=model.classes_, eps=1e-15))\n",
    "    print(\"Alpha value = {:>5}  log loss is: {:>12}\".format(i,log_loss(y_test, y_pred, labels=model.classes_, eps=1e-15)))"
   ]
  },
  {
   "cell_type": "code",
   "execution_count": 125,
   "metadata": {},
   "outputs": [
    {
     "name": "stdout",
     "output_type": "stream",
     "text": [
      "Alpha values = 0.0007 Train log loss is: 0.9008766278369671\n",
      "Alpha values = 0.0007 Test  log loss is: 1.2025714587001541\n"
     ]
    }
   ],
   "source": [
    "#Naive Bayes Classifier best result using onehotencoding for all the features\n",
    "best_alpha = np.argmin(test_log_error_array)\n",
    "model = MultinomialNB(alpha=alpha[best_alpha])\n",
    "model.fit(X_train_onehotencoding, y_train)\n",
    "sig_model = CalibratedClassifierCV(model, method=\"sigmoid\")\n",
    "sig_model.fit(X_train_onehotencoding, y_train)\n",
    "\n",
    "y_pred = sig_model.predict_proba(X_train_onehotencoding)\n",
    "print(\"Alpha values =\", alpha[best_alpha], \"Train log loss is:\",log_loss(y_train, y_pred, labels=model.classes_, eps=1e-15))\n",
    "\n",
    "y_pred = sig_model.predict_proba(X_test_onehotencoding)\n",
    "print(\"Alpha values =\", alpha[best_alpha], \"Test  log loss is:\",log_loss(y_test, y_pred, labels=model.classes_, eps=1e-15))"
   ]
  },
  {
   "cell_type": "code",
   "execution_count": 126,
   "metadata": {},
   "outputs": [],
   "source": [
    "y_prediction =np.argmax(y_pred, axis=1)\n",
    "y_prediction=y_prediction+1"
   ]
  },
  {
   "cell_type": "code",
   "execution_count": 127,
   "metadata": {},
   "outputs": [],
   "source": [
    "cm=confusion_matrix(y_test,y_prediction)"
   ]
  },
  {
   "cell_type": "code",
   "execution_count": 128,
   "metadata": {},
   "outputs": [
    {
     "data": {
      "image/png": "[encoded data removed]",
      "text/plain": [
       "<Figure size 1296x576 with 2 Axes>"
      ]
     },
     "metadata": {
      "needs_background": "light"
     },
     "output_type": "display_data"
    }
   ],
   "source": [
    "labels=[1,2,3,4,5,6,7,8,9]\n",
    "plt.figure(figsize=(18,8))\n",
    "sns.heatmap(cm,annot=True,cmap=\"YlGnBu\",xticklabels=labels,yticklabels=labels,fmt='g')\n",
    "plt.xlabel('True Class')\n",
    "plt.ylabel('Predicted Class')\n",
    "plt.show()"
   ]
  },
  {
   "cell_type": "code",
   "execution_count": 129,
   "metadata": {},
   "outputs": [
    {
     "name": "stdout",
     "output_type": "stream",
     "text": [
      "For Naive Bayes Classifier (OneHotEncoding) we obtain 65.36% of accuracy\n"
     ]
    }
   ],
   "source": [
    "acc=(np.trace(cm)/np.sum(cm)*100)\n",
    "print(\"For Naive Bayes Classifier (OneHotEncoding) we obtain {0:.2f}% of accuracy\".format(round(acc,2)))"
   ]
  },
  {
   "cell_type": "markdown",
   "metadata": {},
   "source": [
    "<span style=\"color:blue\"><span style=\"font-size:20px\">ProportionalEncoding</span></span>"
   ]
  },
  {
   "cell_type": "code",
   "execution_count": 130,
   "metadata": {},
   "outputs": [
    {
     "name": "stdout",
     "output_type": "stream",
     "text": [
      "Alpha value = 1e-06  log loss is: 1.157555817307254\n",
      "Alpha value = 1e-05  log loss is: 1.1575558718849064\n",
      "Alpha value = 0.0001  log loss is: 1.1575564176865183\n"
     ]
    }
   ],
   "source": [
    "#Naive Bayes Classifier tuning with proportionalencoding with all features\n",
    "alpha = [0.000001,0.00001,0.0001]\n",
    "test_log_error_array=[]\n",
    "for i in alpha:\n",
    "    model = MultinomialNB(alpha=i)\n",
    "    model.fit(X_train_proportionalencoding, y_train)\n",
    "    sig_model = CalibratedClassifierCV(model, method=\"sigmoid\")\n",
    "    sig_model.fit(X_train_proportionalencoding, y_train)\n",
    "    y_pred = sig_model.predict_proba(X_test_proportionalencoding)\n",
    "    test_log_error_array.append(log_loss(y_test, y_pred, labels=model.classes_, eps=1e-15))\n",
    "    print(\"Alpha value = {:>5}  log loss is: {:>12}\".format(i,log_loss(y_test, y_pred, labels=model.classes_, eps=1e-15)))"
   ]
  },
  {
   "cell_type": "code",
   "execution_count": 131,
   "metadata": {},
   "outputs": [
    {
     "name": "stdout",
     "output_type": "stream",
     "text": [
      "Alpha values = 1e-06 Train log loss is: 0.9086174254587089\n",
      "Alpha values = 1e-06 Test  log loss is: 1.157555817307254\n"
     ]
    }
   ],
   "source": [
    "#Naive Bayes Classifier best result using proportionalencoding for all the features\n",
    "best_alpha = np.argmin(test_log_error_array)\n",
    "model = MultinomialNB(alpha=alpha[best_alpha])\n",
    "model.fit(X_train_proportionalencoding, y_train)\n",
    "sig_model = CalibratedClassifierCV(model, method=\"sigmoid\")\n",
    "sig_model.fit(X_train_proportionalencoding, y_train)\n",
    "\n",
    "y_pred = sig_model.predict_proba(X_train_proportionalencoding)\n",
    "print(\"Alpha values =\", alpha[best_alpha], \"Train log loss is:\",log_loss(y_train, y_pred, labels=model.classes_, eps=1e-15))\n",
    "\n",
    "y_pred = sig_model.predict_proba(X_test_proportionalencoding)\n",
    "print(\"Alpha values =\", alpha[best_alpha], \"Test  log loss is:\",log_loss(y_test, y_pred, labels=model.classes_, eps=1e-15))"
   ]
  },
  {
   "cell_type": "code",
   "execution_count": 132,
   "metadata": {},
   "outputs": [],
   "source": [
    "y_prediction =np.argmax(y_pred, axis=1)\n",
    "y_prediction=y_prediction+1"
   ]
  },
  {
   "cell_type": "code",
   "execution_count": 133,
   "metadata": {},
   "outputs": [],
   "source": [
    "cm=confusion_matrix(y_test,y_prediction)"
   ]
  },
  {
   "cell_type": "code",
   "execution_count": 134,
   "metadata": {},
   "outputs": [
    {
     "data": {
      "image/png": "[encoded data removed]",
      "text/plain": [
       "<Figure size 1296x576 with 2 Axes>"
      ]
     },
     "metadata": {
      "needs_background": "light"
     },
     "output_type": "display_data"
    }
   ],
   "source": [
    "labels=[1,2,3,4,5,6,7,8,9]\n",
    "plt.figure(figsize=(18,8))\n",
    "sns.heatmap(cm,annot=True,cmap=\"YlGnBu\",xticklabels=labels,yticklabels=labels,fmt='g')\n",
    "plt.xlabel('True Class')\n",
    "plt.ylabel('Predicted Class')\n",
    "plt.show()"
   ]
  },
  {
   "cell_type": "code",
   "execution_count": 135,
   "metadata": {},
   "outputs": [
    {
     "name": "stdout",
     "output_type": "stream",
     "text": [
      "For Naive Bayes Classifier (ProportionalEncoding) we obtain 59.04% of accuracy\n"
     ]
    }
   ],
   "source": [
    "acc=(np.trace(cm)/np.sum(cm)*100)\n",
    "print(\"For Naive Bayes Classifier (ProportionalEncoding) we obtain {0:.2f}% of accuracy\".format(round(acc,2)))"
   ]
  },
  {
   "cell_type": "markdown",
   "metadata": {},
   "source": [
    "<span style=\"color:red\"><span style=\"font-size:25px\">Linear SVC Classifier</span></span>"
   ]
  },
  {
   "cell_type": "markdown",
   "metadata": {},
   "source": [
    "<span style=\"color:blue\"><span style=\"font-size:20px\">OneHotEncoding</span></span>"
   ]
  },
  {
   "cell_type": "code",
   "execution_count": 136,
   "metadata": {},
   "outputs": [
    {
     "name": "stdout",
     "output_type": "stream",
     "text": [
      "Cost value =  0.01  log loss is: 0.9743379989517295\n",
      "Cost value =  0.02  log loss is: 0.969673580947326\n",
      "Cost value =  0.03  log loss is: 0.9724200964358267\n",
      "Cost value =  0.04  log loss is: 0.9768495560419808\n",
      "Cost value =  0.05  log loss is: 0.9811558104638395\n"
     ]
    }
   ],
   "source": [
    "#Linear SVC Classifier tuning with onehotencoding for all features\n",
    "Cost = [0.01, 0.02, 0.03, 0.04, 0.05]\n",
    "test_log_error_array=[]\n",
    "for i in Cost:\n",
    "    model = LinearSVC(C=i)\n",
    "    model.fit(X_train_onehotencoding, y_train)\n",
    "    sig_model = CalibratedClassifierCV(model, method=\"sigmoid\")\n",
    "    sig_model.fit(X_train_onehotencoding, y_train)\n",
    "    y_pred = sig_model.predict_proba(X_test_onehotencoding)\n",
    "    test_log_error_array.append(log_loss(y_test, y_pred, labels=model.classes_, eps=1e-15))\n",
    "    print(\"Cost value = {:>5}  log loss is: {:>12}\".format(i,log_loss(y_test, y_pred, labels=model.classes_, eps=1e-15)))"
   ]
  },
  {
   "cell_type": "code",
   "execution_count": 137,
   "metadata": {},
   "outputs": [
    {
     "name": "stdout",
     "output_type": "stream",
     "text": [
      "Cost values =  0.02 Train log loss is: 0.6111290411990938\n",
      "Cost values =  0.02 Test log loss is: 0.969673591758727\n"
     ]
    }
   ],
   "source": [
    "#Linear SVC best result using onehotencoding for all the features\n",
    "best_cost = np.argmin(test_log_error_array)\n",
    "model = LinearSVC(C=Cost[best_cost])\n",
    "model.fit(X_train_onehotencoding, y_train)\n",
    "sig_model = CalibratedClassifierCV(model, method=\"sigmoid\")\n",
    "sig_model.fit(X_train_onehotencoding, y_train)\n",
    "\n",
    "y_pred = sig_model.predict_proba(X_train_onehotencoding)\n",
    "print('Cost values = ', Cost[best_cost], \"Train log loss is:\",log_loss(y_train, y_pred, labels=model.classes_, eps=1e-15))\n",
    "\n",
    "y_pred = sig_model.predict_proba(X_test_onehotencoding)\n",
    "print('Cost values = ', Cost[best_cost], \"Test log loss is:\",log_loss(y_test, y_pred, labels=model.classes_, eps=1e-15))"
   ]
  },
  {
   "cell_type": "code",
   "execution_count": 138,
   "metadata": {},
   "outputs": [],
   "source": [
    "y_prediction =np.argmax(y_pred, axis=1)\n",
    "y_prediction=y_prediction+1"
   ]
  },
  {
   "cell_type": "code",
   "execution_count": 139,
   "metadata": {},
   "outputs": [],
   "source": [
    "cm=confusion_matrix(y_test,y_prediction)"
   ]
  },
  {
   "cell_type": "code",
   "execution_count": 140,
   "metadata": {},
   "outputs": [
    {
     "data": {
      "image/png": "[encoded data removed]",
      "text/plain": [
       "<Figure size 1296x576 with 2 Axes>"
      ]
     },
     "metadata": {
      "needs_background": "light"
     },
     "output_type": "display_data"
    }
   ],
   "source": [
    "labels=[1,2,3,4,5,6,7,8,9]\n",
    "plt.figure(figsize=(18,8))\n",
    "sns.heatmap(cm,annot=True,cmap=\"YlGnBu\",xticklabels=labels,yticklabels=labels,fmt='g')\n",
    "plt.xlabel('True Class')\n",
    "plt.ylabel('Predicted Class')\n",
    "plt.show()"
   ]
  },
  {
   "cell_type": "code",
   "execution_count": 141,
   "metadata": {},
   "outputs": [
    {
     "name": "stdout",
     "output_type": "stream",
     "text": [
      "For Linear SVC Classifier (OneHotEncoding) we obtain 68.98% of accuracy\n"
     ]
    }
   ],
   "source": [
    "acc=(np.trace(cm)/np.sum(cm)*100)\n",
    "print(\"For Linear SVC Classifier (OneHotEncoding) we obtain {0:.2f}% of accuracy\".format(round(acc,2)))"
   ]
  },
  {
   "cell_type": "markdown",
   "metadata": {},
   "source": [
    "<span style=\"color:blue\"><span style=\"font-size:20px\">ProportionalEncoding</span></span>"
   ]
  },
  {
   "cell_type": "code",
   "execution_count": 142,
   "metadata": {},
   "outputs": [
    {
     "name": "stdout",
     "output_type": "stream",
     "text": [
      "Cost value = 0.0001  log loss is: 1.282011176750838\n",
      "Cost value =  0.001  log loss is: 1.1899479214290447\n",
      "Cost value =    0.1  log loss is: 1.20171747931967\n",
      "Cost value =      1  log loss is: 1.2739062281436608\n"
     ]
    }
   ],
   "source": [
    "#Linear SVC Classifier tuning with proportionalencoding for all the features\n",
    "Cost = [0.0001, 0.001, 0.1, 1]\n",
    "test_log_error_array=[]\n",
    "for i in Cost:\n",
    "    model = LinearSVC(C=i)\n",
    "    model.fit(X_train_proportionalencoding, y_train)\n",
    "    sig_model = CalibratedClassifierCV(model, method=\"sigmoid\")\n",
    "    sig_model.fit(X_train_proportionalencoding, y_train)\n",
    "    y_pred = sig_model.predict_proba(X_test_proportionalencoding)\n",
    "    test_log_error_array.append(log_loss(y_test, y_pred, labels=model.classes_, eps=1e-15))\n",
    "    print(\"Cost value = {:>6}  log loss is: {:>12}\".format(i,log_loss(y_test, y_pred, labels=model.classes_, eps=1e-15)))"
   ]
  },
  {
   "cell_type": "code",
   "execution_count": 143,
   "metadata": {},
   "outputs": [
    {
     "name": "stdout",
     "output_type": "stream",
     "text": [
      "Cost values =  0.001 Train log loss is: 0.9651447318692041\n",
      "Cost values =  0.001 Test log loss is: 1.1899478852767496\n"
     ]
    }
   ],
   "source": [
    "#Linear SVC Classifier best result using proportionalencoding for all the features\n",
    "best_cost = np.argmin(test_log_error_array)\n",
    "model = LinearSVC(C=Cost[best_cost])\n",
    "model.fit(X_train_proportionalencoding, y_train)\n",
    "sig_model = CalibratedClassifierCV(model, method=\"sigmoid\")\n",
    "sig_model.fit(X_train_proportionalencoding, y_train)\n",
    "\n",
    "y_pred = sig_model.predict_proba(X_train_proportionalencoding)\n",
    "print('Cost values = ', Cost[best_cost], \"Train log loss is:\",log_loss(y_train, y_pred, labels=model.classes_, eps=1e-15))\n",
    "\n",
    "y_pred = sig_model.predict_proba(X_test_proportionalencoding)\n",
    "print('Cost values = ', Cost[best_cost], \"Test log loss is:\",log_loss(y_test, y_pred, labels=model.classes_, eps=1e-15))"
   ]
  },
  {
   "cell_type": "code",
   "execution_count": 144,
   "metadata": {},
   "outputs": [],
   "source": [
    "y_prediction =np.argmax(y_pred, axis=1)\n",
    "y_prediction=y_prediction+1"
   ]
  },
  {
   "cell_type": "code",
   "execution_count": 145,
   "metadata": {},
   "outputs": [],
   "source": [
    "cm=confusion_matrix(y_test,y_prediction)"
   ]
  },
  {
   "cell_type": "code",
   "execution_count": 146,
   "metadata": {},
   "outputs": [
    {
     "data": {
      "image/png": "[encoded data removed]",
      "text/plain": [
       "<Figure size 1296x576 with 2 Axes>"
      ]
     },
     "metadata": {
      "needs_background": "light"
     },
     "output_type": "display_data"
    }
   ],
   "source": [
    "labels=[1,2,3,4,5,6,7,8,9]\n",
    "plt.figure(figsize=(18,8))\n",
    "sns.heatmap(cm,annot=True,cmap=\"YlGnBu\",xticklabels=labels,yticklabels=labels,fmt='g')\n",
    "plt.xlabel('True Class')\n",
    "plt.ylabel('Predicted Class')\n",
    "plt.show()"
   ]
  },
  {
   "cell_type": "code",
   "execution_count": 147,
   "metadata": {},
   "outputs": [
    {
     "name": "stdout",
     "output_type": "stream",
     "text": [
      "For Linear SVC Classifier (ProportionalEncoding) we obtain 56.93% of accuracy\n"
     ]
    }
   ],
   "source": [
    "acc=(np.trace(cm)/np.sum(cm)*100)\n",
    "print(\"For Linear SVC Classifier (ProportionalEncoding) we obtain {0:.2f}% of accuracy\".format(round(acc,2)))"
   ]
  },
  {
   "cell_type": "markdown",
   "metadata": {},
   "source": [
    "__We have tuned more different models with onehotencoding and proportionalencoding. Tree based models are very difficult to tune, specially in onehotencoding, because there are a lot of features and it takes a long time to calculate the results.__ \n",
    "\n",
    "__New model results do not improve previous results. It seems that SGDClassifier,Linear SVC and KNN give best results__\n",
    "\n",
    "__Hereafter are the results:__<br><br>\n",
    "\n",
    "<span style='color:blue'>\n",
    "Linear SVC    : best log_loss= 0.9697<br>\n",
    "SGDClassifier : best log_loss= 1.0334<br>\n",
    "KNN           : best log_loss= 1.0414<br>\n",
    "XGBoost       : best log_loss= 1.0663<br>\n",
    "RandomForrest : best log_loss= 1.1245<br>\n",
    "MultinomialNB : best log_loss= 1.1575<br>\n",
    "</span>"
   ]
  },
  {
   "cell_type": "markdown",
   "metadata": {},
   "source": [
    "__We must add that in real world log_loss can be a good indicator that how fine is our model but there is another metric which is very important in this medical case (missclassification%). The wrong classification of some mutations can be critical and in this case we obtain a best value of 31.02% missclassification for Linear SVC Classifier (OneHotEncoding).<br>\n",
    "If we knew which missclassifications are the most critical ones, we could tune better the model__ "
   ]
  },
  {
   "cell_type": "markdown",
   "metadata": {},
   "source": [
    "Finally, we can try to check if results can be interpreted in some linear models. In several points in Naive Bayes model, we can notice that features significance can lead to predicted results.<br>\n",
    "To check this assertion, we have generated a function that gives most significant features coefficient values. Then we test how many features of these significant features are included in test point. If test point has enough significant features, predicted value matches with actual value<br>"
   ]
  },
  {
   "cell_type": "code",
   "execution_count": 148,
   "metadata": {},
   "outputs": [],
   "source": [
    "def significant_features(indices, text, gene, var, features_number):\n",
    "    gene_vectorizer = CountVectorizer()\n",
    "    variation_vectorizer = CountVectorizer()\n",
    "    text_vectorizer = CountVectorizer(min_df=2)\n",
    "    \n",
    "    gene_vec = gene_vectorizer.fit(X_train['Gene'])\n",
    "    var_vec  = variation_vectorizer.fit(X_train['Variation'])\n",
    "    text_vec = text_vectorizer.fit(X_train['Text'])\n",
    "    \n",
    "    gene_len = len(gene_vec.get_feature_names())\n",
    "    variation_len = len(var_vec.get_feature_names())\n",
    "    \n",
    "    feature_present = 0\n",
    "    for i,v in enumerate(indices):\n",
    "        #checking that feature index corresponds to gene feature\n",
    "        if (v < gene_len):\n",
    "            word = gene_vec.get_feature_names()[v]\n",
    "            yes_no = True if word == gene else False\n",
    "            if yes_no:\n",
    "                feature_present += 1\n",
    "        #checking that feature index corresponds to variation feature        \n",
    "        elif (v < gene_len+variation_len):\n",
    "            word = var_vec.get_feature_names()[v-(gene_len)]\n",
    "            yes_no = True if word == var else False\n",
    "            if yes_no:\n",
    "                feature_present += 1\n",
    "        #checking that feature index corresponds to text feature          \n",
    "        else:\n",
    "            word = text_vec.get_feature_names()[v-(gene_len+variation_len)]\n",
    "            yes_no = True if word in text.split() else False\n",
    "            if yes_no:\n",
    "                feature_present += 1\n",
    "\n",
    "    print(\"Out of the top \",features_number,\" features \", feature_present, \"are present in tested point\")"
   ]
  },
  {
   "cell_type": "code",
   "execution_count": 149,
   "metadata": {},
   "outputs": [
    {
     "data": {
      "text/plain": [
       "CalibratedClassifierCV(base_estimator=MultinomialNB(alpha=0.0007, class_prior=None, fit_prior=True),\n",
       "            cv='warn', method='sigmoid')"
      ]
     },
     "execution_count": 149,
     "metadata": {},
     "output_type": "execute_result"
    }
   ],
   "source": [
    "model = MultinomialNB(alpha=0.0007)\n",
    "model.fit(X_train_onehotencoding, y_train)\n",
    "sig_model = CalibratedClassifierCV(model, method=\"sigmoid\")\n",
    "sig_model.fit(X_train_onehotencoding, y_train)"
   ]
  },
  {
   "cell_type": "code",
   "execution_count": 151,
   "metadata": {},
   "outputs": [
    {
     "name": "stdout",
     "output_type": "stream",
     "text": [
      "Predicted Class : 7\n",
      "Predicted Class Probabilities: [[0.0939 0.0821 0.009  0.1155 0.0338 0.038  0.6202 0.0044 0.0033]]\n",
      "Actual Class : 7\n",
      "\n",
      "Out of the top  100  features  71 are present in tested point\n"
     ]
    }
   ],
   "source": [
    "y_test=y_test.values\n",
    "test_point_number =70\n",
    "feature_number= 100\n",
    "predicted_point = sig_model.predict(X_test_onehotencoding[test_point_number])\n",
    "print(\"Predicted Class :\", predicted_point[0])\n",
    "print(\"Predicted Class Probabilities:\", np.round(sig_model.predict_proba(X_test_onehotencoding[test_point_number]),4))\n",
    "print(\"Actual Class :\", y_test[test_point_number])\n",
    "indices = np.argsort(model.coef_)[predicted_point-1][:,-feature_number:]#we sort the first \"feature_number\" features indexes\n",
    "print()\n",
    "#we calculate how many significant features of test point are included in the first \"feature_number\" significant features\n",
    "significant_features(indices[0], X_test['Text'].iloc[test_point_number],X_test['Gene'].iloc[test_point_number],X_test['Variation'].iloc[test_point_number],feature_number)"
   ]
  },
  {
   "cell_type": "code",
   "execution_count": 152,
   "metadata": {},
   "outputs": [
    {
     "name": "stdout",
     "output_type": "stream",
     "text": [
      "Predicted Class : 5\n",
      "Predicted Class Probabilities: [[0.1234 0.108  0.0116 0.1519 0.3996 0.0499 0.1455 0.0058 0.0043]]\n",
      "Actual Class : 1\n",
      "\n",
      "Out of the top  100  features  23 are present in tested point\n"
     ]
    }
   ],
   "source": [
    "#similar as previous code but in another test point\n",
    "test_point_number =33\n",
    "feature_number= 100\n",
    "predicted_point = sig_model.predict(X_test_onehotencoding[test_point_number])\n",
    "print(\"Predicted Class :\", predicted_point[0])\n",
    "print(\"Predicted Class Probabilities:\", np.round(sig_model.predict_proba(X_test_onehotencoding[test_point_number]),4))\n",
    "print(\"Actual Class :\", y_test[test_point_number])\n",
    "indices = np.argsort(model.coef_)[predicted_point-1][:,-feature_number:]\n",
    "print()\n",
    "significant_features(indices[0], X_test['Text'].iloc[test_point_number],X_test['Gene'].iloc[test_point_number],X_test['Variation'].iloc[test_point_number],feature_number)"
   ]
  },
  {
   "cell_type": "markdown",
   "metadata": {},
   "source": [
    "We can see the more the predicted value and actual value matches, the more significant features are included in test point. Unfortunately, in some points of the same model this assertion is not so clear. Moreover, very often, higher values in model coefficients do not mean more significant features. It depends on normalisation, variance and other parameters related to each feature."
   ]
  },
  {
   "cell_type": "markdown",
   "metadata": {},
   "source": [
    "Some of the functions used mainly in proportional encoding have been modified from original functions given by Teclov Academy"
   ]
  },
  {
   "cell_type": "code",
   "execution_count": null,
   "metadata": {},
   "outputs": [],
   "source": []
  }
 ],
 "metadata": {
  "kernelspec": {
   "display_name": "Python 3",
   "language": "python",
   "name": "python3"
  },
  "language_info": {
   "codemirror_mode": {
    "name": "ipython",
    "version": 3
   },
   "file_extension": ".py",
   "mimetype": "text/x-python",
   "name": "python",
   "nbconvert_exporter": "python",
   "pygments_lexer": "ipython3",
   "version": "3.6.8"
  }
 },
 "nbformat": 4,
 "nbformat_minor": 2
}
